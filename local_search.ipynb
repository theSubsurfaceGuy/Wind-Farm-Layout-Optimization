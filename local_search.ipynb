{
  "nbformat": 4,
  "nbformat_minor": 0,
  "metadata": {
    "colab": {
      "name": "local_search.ipynb",
      "provenance": [],
      "authorship_tag": "ABX9TyNV7+VPdQvInmqDkEp8HRYn"
    },
    "kernelspec": {
      "name": "python3",
      "display_name": "Python 3"
    }
  },
  "cells": [
    {
      "cell_type": "code",
      "metadata": {
        "id": "E_LSq7Zvt8hi",
        "colab": {
          "base_uri": "https://localhost:8080/",
          "height": 68
        },
        "outputId": "7d629c44-6d15-4989-8ab1-a716e4e12116"
      },
      "source": [
        "pip install  geneticalgorithm"
      ],
      "execution_count": null,
      "outputs": [
        {
          "output_type": "stream",
          "text": [
            "Requirement already satisfied: geneticalgorithm in /usr/local/lib/python3.6/dist-packages (1.0.1)\n",
            "Requirement already satisfied: numpy in /usr/local/lib/python3.6/dist-packages (from geneticalgorithm) (1.18.5)\n",
            "Requirement already satisfied: func-timeout in /usr/local/lib/python3.6/dist-packages (from geneticalgorithm) (4.3.5)\n"
          ],
          "name": "stdout"
        }
      ]
    },
    {
      "cell_type": "code",
      "metadata": {
        "id": "msDOhJIQqICj",
        "colab": {
          "base_uri": "https://localhost:8080/",
          "height": 85
        },
        "outputId": "18490a7b-a5b2-4182-ce9b-4f91ea7cde11"
      },
      "source": [
        "from math import sin, cos\n",
        "import random\n",
        "import numpy as np\n",
        "import matplotlib.pyplot as plt\n",
        "\n",
        "from poisson import getTurbLoc, loadPowerCurve, binWindResourceData, preProcessing, preProcessing_greedy, getAEP, getAEP_greedy, checkConstraints\n",
        "\n",
        "from poisson import Bridson_sampling\n",
        "\n",
        "num_turbines = 1\n",
        "\n",
        "# Turbine Specifications.\n",
        "# -**-SHOULD NOT BE MODIFIED-**-\n",
        "turb_specs    =  {   \n",
        "                     'Name': 'Anon Name',\n",
        "                     'Vendor': 'Anon Vendor',\n",
        "                     'Type': 'Anon Type',\n",
        "                     'Dia (m)': 100,\n",
        "                     'Rotor Area (m2)': 7853,\n",
        "                     'Hub Height (m)': 100,\n",
        "                     'Cut-in Wind Speed (m/s)': 3.5,\n",
        "                     'Cut-out Wind Speed (m/s)': 25,\n",
        "                     'Rated Wind Speed (m/s)': 15,\n",
        "                     'Rated Power (MW)': 3\n",
        "                 }\n",
        "turb_diam      =  turb_specs['Dia (m)']\n",
        "turb_rad       =  turb_diam/2 \n",
        "\n",
        "# Turbine x,y coordinates\n",
        "turb_coords   =  getTurbLoc('turbine_loc_test.csv')\n",
        "\n",
        "# Load the power curve\n",
        "power_curve   =  loadPowerCurve('power_curve.csv')\n",
        "\n",
        "# Pass wind data csv file location to function binWindResourceData.\n",
        "# Retrieve probabilities of wind instance occurence.\n",
        "wind_inst_freq =  binWindResourceData('wind_data_2009.csv')   \n",
        "\n",
        "# Doing preprocessing to avoid the same repeating calculations. Record \n",
        "# the required data for calculations. Do that once. Data are set up (shaped)\n",
        "# to assist vectorization. Used later in function totalAEP.\n",
        "n_wind_instances, cos_dir, sin_dir, wind_sped_stacked, C_t = preProcessing_greedy(power_curve, num_turbines)\n",
        "\n",
        "def greedy_solution(points):\n",
        "    solution = np.array([[]])\n",
        "    solution = np.array([], dtype=np.int64).reshape(0,2)\n",
        "    best_value = 0\n",
        "    best_point = 0\n",
        "    x = np.array([[]])\n",
        "    for i in range(n_turbs):\n",
        "        best_value = 0\n",
        "        for j in range(n_turbs):\n",
        "            objec = points[j]\n",
        "            if(objec not in solution):\n",
        "                solution = np.vstack((solution, objec))\n",
        "                obj = getAEP_greedy(turb_rad, solution, power_curve, wind_inst_freq, n_wind_instances, cos_dir, sin_dir, wind_sped_stacked, C_t) \n",
        "                if(obj >= best_value):\n",
        "                    best_value = obj\n",
        "                    best_point = objec\n",
        "                solution = np.delete(solution, len(solution) - 1, 0)\n",
        "        solution = np.vstack((solution, best_point))\n",
        "    neighbors = np.array(list(filter(lambda x: x not in solution, points)))\n",
        "    return solution\n",
        "\n",
        "def perturb(solution, neighbors, position, best_value):\n",
        "    best_point = solution[position]\n",
        "    print(\"Initial \", best_value)\n",
        "    for i in neighbors:\n",
        "        solution[position] = i\n",
        "        obj = getAEP(turb_rad, solution, power_curve, wind_inst_freq, n_wind_instances, cos_dir, sin_dir, wind_sped_stacked, C_t) \n",
        "        if(obj >= best_value):\n",
        "            best_value = obj\n",
        "            best_point = i\n",
        "    solution[position] = best_point\n",
        "    print(\"Later \", best_value)\n",
        "\n",
        "    return solution, best_value\n",
        "\n",
        "def local_search(solution):\n",
        "    best_solution = solution.copy()\n",
        "    neighbors = np.array(list(filter(lambda x: x not in solution, points)))\n",
        "    best_value = getAEP(turb_rad, solution, power_curve, wind_inst_freq, n_wind_instances, cos_dir, sin_dir, wind_sped_stacked, C_t) \n",
        "    for position in range(n_turbs):\n",
        "        solution = best_solution.copy()\n",
        "        improved = False\n",
        "        for i in neighbors:\n",
        "            solution[position] = i.copy()\n",
        "            value = getAEP(turb_rad, solution, power_curve, wind_inst_freq, n_wind_instances, cos_dir, sin_dir, wind_sped_stacked, C_t) \n",
        "            if(value >= best_value):\n",
        "                best_value = value\n",
        "                best_point = i\n",
        "                improved = True\n",
        "                best_solution = solution.copy()\n",
        "        neighbors = np.array(list(filter(lambda x: x not in best_solution, points)))\n",
        "    return best_solution\n",
        "\n",
        "width = 3900\n",
        "height = 3900\n",
        "n_turbs = 50\n",
        "points = Bridson_sampling(width=width, height=height, radius=400)\n",
        "vec = []\n",
        "for i in points:\n",
        "    i[0] = i[0] + 50\n",
        "    i[1] = i[1] + 50\n",
        "\n",
        "sol = greedy_solution(points)\n",
        "n_wind_instances, cos_dir, sin_dir, wind_sped_stacked, C_t = preProcessing(power_curve)\n",
        "solu = local_search(sol)\n",
        "best_solution = getAEP(turb_rad, solu, power_curve, wind_inst_freq, n_wind_instances, cos_dir, sin_dir, wind_sped_stacked, C_t) \n",
        "print(best_solution)\n",
        "checkConstraints(solu, turb_diam)\n"
      ],
      "execution_count": null,
      "outputs": [
        {
          "output_type": "stream",
          "text": [
            "467.58244354248046\n",
            "Both perimeter and proximity constraints are satisfied !!\n",
            "\n"
          ],
          "name": "stdout"
        },
        {
          "output_type": "execute_result",
          "data": {
            "text/plain": [
              "()"
            ]
          },
          "metadata": {
            "tags": []
          },
          "execution_count": 9
        }
      ]
    },
    {
      "cell_type": "code",
      "metadata": {
        "id": "Lw4lerYyvTsx"
      },
      "source": [
        "import pandas as pd\n",
        "loc=pd.DataFrame(solu)\n",
        "loc.to_csv('Check1.csv')"
      ],
      "execution_count": null,
      "outputs": []
    }
  ]
}