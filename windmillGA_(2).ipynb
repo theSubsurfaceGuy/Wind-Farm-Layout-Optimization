{
  "nbformat": 4,
  "nbformat_minor": 0,
  "metadata": {
    "kernelspec": {
      "display_name": "Python 3",
      "language": "python",
      "name": "python3"
    },
    "language_info": {
      "codemirror_mode": {
        "name": "ipython",
        "version": 3
      },
      "file_extension": ".py",
      "mimetype": "text/x-python",
      "name": "python",
      "nbconvert_exporter": "python",
      "pygments_lexer": "ipython3",
      "version": "3.8.5"
    },
    "colab": {
      "name": "windmillGA (2).ipynb",
      "provenance": [],
      "collapsed_sections": []
    }
  },
  "cells": [
    {
      "cell_type": "markdown",
      "metadata": {
        "id": "OUKcLuFeBI-h"
      },
      "source": [
        "The main one"
      ]
    },
    {
      "cell_type": "code",
      "metadata": {
        "id": "irr-pF6ke6w5"
      },
      "source": [
        "import random\n",
        "import numpy as np\n",
        "import pandas as pd\n"
      ],
      "execution_count": null,
      "outputs": []
    },
    {
      "cell_type": "code",
      "metadata": {
        "id": "Nqi35_Zje6xB"
      },
      "source": [
        "from Farm_Evaluator_Vec import getTurbLoc, loadPowerCurve, binWindResourceData, preProcessing, getAEP, checkConstraints"
      ],
      "execution_count": null,
      "outputs": []
    },
    {
      "cell_type": "code",
      "metadata": {
        "id": "hbKG8Kjce6xG"
      },
      "source": [
        "#turb_coords   =  getTurbLoc(r'Data/turbine_loc_test.csv')\n",
        "power_curve   =  loadPowerCurve('power_curve.csv')\n",
        "wind_inst_freq =  binWindResourceData(r'wind_data_2017.csv')\n",
        "turb_rad = 50"
      ],
      "execution_count": null,
      "outputs": []
    },
    {
      "cell_type": "code",
      "metadata": {
        "id": "AgbcuDMce6xR"
      },
      "source": [
        "n_wind_instances, cos_dir, sin_dir, wind_sped_stacked, C_t = preProcessing(power_curve)"
      ],
      "execution_count": null,
      "outputs": []
    },
    {
      "cell_type": "code",
      "metadata": {
        "id": "TV4B642Be6xW"
      },
      "source": [
        "# Problem parameter\n",
        "min_lim = 50\n",
        "max_lim = 3950\n",
        "turb_count = 50\n",
        "penalty = 0.05"
      ],
      "execution_count": null,
      "outputs": []
    },
    {
      "cell_type": "code",
      "metadata": {
        "id": "duTpEDSSe6xa"
      },
      "source": [
        "def gen_coord():\n",
        "    x = round(random.uniform(min_lim, max_lim),2)\n",
        "    y = round(random.uniform(min_lim, max_lim),2)\n",
        "    return x,y"
      ],
      "execution_count": null,
      "outputs": []
    },
    {
      "cell_type": "code",
      "metadata": {
        "id": "lfxijvD_e6xe"
      },
      "source": [
        "def check_violation(turb1, turb2):\n",
        "    return np.linalg.norm(turb1 - turb2) > 8*turb_rad"
      ],
      "execution_count": null,
      "outputs": []
    },
    {
      "cell_type": "code",
      "metadata": {
        "id": "Gx0fTm2se6xm"
      },
      "source": [
        "def generate_turb_locations():\n",
        "    arr = [gen_coord()]\n",
        "    for i in range(turb_count-1):\n",
        "        while True:\n",
        "            new_cord = gen_coord()\n",
        "\n",
        "            if all([check_violation(np.array(cord), np.array(new_cord)) for cord in arr]):\n",
        "                arr.append(new_cord)\n",
        "                break\n",
        "    return arr"
      ],
      "execution_count": null,
      "outputs": []
    },
    {
      "cell_type": "code",
      "metadata": {
        "id": "jOFAC4fUe6xq"
      },
      "source": [
        "def calculate_AEP(turb_coords):\n",
        "    return getAEP(turb_rad, turb_coords, power_curve, wind_inst_freq, \n",
        "                  n_wind_instances, cos_dir, sin_dir, wind_sped_stacked, C_t)"
      ],
      "execution_count": null,
      "outputs": []
    },
    {
      "cell_type": "code",
      "metadata": {
        "id": "g_-OVvUke6xv"
      },
      "source": [
        "class TurbGroup:\n",
        "    def __init__(self):\n",
        "        self.turb_coords = np.array(generate_turb_locations())\n",
        "        self.fitness = -1\n",
        "        self.violation_count = 0\n",
        "    \n",
        "    def count_violation(self):\n",
        "        for i,turb1 in enumerate(self.turb_coords):\n",
        "            for turb2 in np.delete(self.turb_coords, i, axis=0):\n",
        "                if  np.linalg.norm(turb1 - turb2) < 8*turb_rad:\n",
        "                    self.violation_count += 1\n",
        "                    \n",
        "        \n",
        "    def calculate_fitness(self):\n",
        "        self.count_violation()\n",
        "        fitness = calculate_AEP(self.turb_coords)\n",
        "        fitness -= fitness*penalty*self.violation_count\n",
        "        self.fitness = fitness\n"
      ],
      "execution_count": null,
      "outputs": []
    },
    {
      "cell_type": "code",
      "metadata": {
        "id": "-KkPSxmte6xz"
      },
      "source": [
        "# GA parameters\n",
        "POP_SIZE = 50 #####\n",
        "GEN_COUNT = 100 \n",
        "TOURNAMENT_SIZE = 5\n",
        "MUT_PROB = 0.15\n",
        "XO_PROB = 0.75"
      ],
      "execution_count": null,
      "outputs": []
    },
    {
      "cell_type": "code",
      "metadata": {
        "id": "BL_AS9yve6x3"
      },
      "source": [
        "def ga():\n",
        "\n",
        "    pop = init_pop(POP_SIZE)\n",
        "    pop = fitness(pop)\n",
        "    \n",
        "    for generation in range(GEN_COUNT):    \n",
        "        \n",
        "        nextgen_pop = []\n",
        "        for i in range(int(POP_SIZE/2)):\n",
        "            parent1 = selection(pop)\n",
        "            parent2 = selection(pop)\n",
        "            offspring = crossover(parent1, parent2)\n",
        "            nextgen_pop.append(mutation(offspring[0]))\n",
        "            nextgen_pop.append(mutation(offspring[1]))\n",
        "        pop = fitness(nextgen_pop)\n",
        "        best = sorted(pop, key=lambda x: x.fitness, reverse=True)\n",
        "        print(\"Best fit in Generation no {}: {}\".format(generation, best[0].fitness))\n",
        "    return best[0]\n"
      ],
      "execution_count": null,
      "outputs": []
    },
    {
      "cell_type": "code",
      "metadata": {
        "id": "muIMmiX2e6x8"
      },
      "source": [
        "def init_pop(population_count):\n",
        "    return [TurbGroup() for _ in range(population_count)]"
      ],
      "execution_count": null,
      "outputs": []
    },
    {
      "cell_type": "code",
      "metadata": {
        "id": "sAZa6Gzxe6yA"
      },
      "source": [
        "def fitness(population):\n",
        "    for agent in population:\n",
        "        agent.calculate_fitness()\n",
        "    return population"
      ],
      "execution_count": null,
      "outputs": []
    },
    {
      "cell_type": "code",
      "metadata": {
        "id": "GLQSh4qke6yE"
      },
      "source": [
        "def selection(population):\n",
        "    players = random.sample(population, TOURNAMENT_SIZE)\n",
        "    sorted_players = sorted(players, key=lambda x: x.fitness, reverse=True)\n",
        "\n",
        "    return sorted_players[0]"
      ],
      "execution_count": null,
      "outputs": []
    },
    {
      "cell_type": "code",
      "metadata": {
        "id": "VRabuj7Fe6yJ"
      },
      "source": [
        "def crossover(p1, p2):\n",
        "    if random.random() < XO_PROB:\n",
        "        xo_pt = random.randrange(turb_count)\n",
        "        p1.turb_coords[:xo_pt],p2.turb_coords[:xo_pt] = p1.turb_coords[:xo_pt],p2.turb_coords[:xo_pt]\n",
        "\n",
        "    return p1, p2"
      ],
      "execution_count": null,
      "outputs": []
    },
    {
      "cell_type": "code",
      "metadata": {
        "id": "WAYZeVo7e6yN"
      },
      "source": [
        "def mutation(agent):\n",
        "    if random.random() < MUT_PROB:\n",
        "        return TurbGroup()\n",
        "    else:\n",
        "        return agent"
      ],
      "execution_count": null,
      "outputs": []
    },
    {
      "cell_type": "code",
      "metadata": {
        "id": "m3zouZhJe6yQ",
        "colab": {
          "base_uri": "https://localhost:8080/",
          "height": 1000
        },
        "outputId": "abc03973-1da6-41ae-e0f9-e71b92deb47e"
      },
      "source": [
        "# best_fit is an instance of the class TurbGroup\n",
        "# you can get the location using the attribute turb_coords\n",
        "# eg: best_fit.turb_coords\n",
        "best_fit = ga()"
      ],
      "execution_count": null,
      "outputs": [
        {
          "output_type": "stream",
          "text": [
            "Best fit in Generation no 0: 555.2158937072754\n",
            "Best fit in Generation no 1: 555.6790832519531\n",
            "Best fit in Generation no 2: 555.6790832519531\n",
            "Best fit in Generation no 3: 555.6790832519531\n",
            "Best fit in Generation no 4: 555.6790832519531\n",
            "Best fit in Generation no 5: 555.6790832519531\n",
            "Best fit in Generation no 6: 555.6790832519531\n",
            "Best fit in Generation no 7: 555.6790832519531\n",
            "Best fit in Generation no 8: 555.6790832519531\n",
            "Best fit in Generation no 9: 555.9389653015137\n",
            "Best fit in Generation no 10: 555.9389653015137\n",
            "Best fit in Generation no 11: 555.9389653015137\n",
            "Best fit in Generation no 12: 555.9389653015137\n",
            "Best fit in Generation no 13: 555.9389653015137\n",
            "Best fit in Generation no 14: 555.9389653015137\n",
            "Best fit in Generation no 15: 555.9389653015137\n",
            "Best fit in Generation no 16: 555.9389653015137\n",
            "Best fit in Generation no 17: 555.9389653015137\n",
            "Best fit in Generation no 18: 555.9389653015137\n",
            "Best fit in Generation no 19: 555.9389653015137\n",
            "Best fit in Generation no 20: 555.9389653015137\n",
            "Best fit in Generation no 21: 555.9389653015137\n",
            "Best fit in Generation no 22: 555.9389653015137\n",
            "Best fit in Generation no 23: 555.9389653015137\n",
            "Best fit in Generation no 24: 555.9389653015137\n",
            "Best fit in Generation no 25: 555.9389653015137\n",
            "Best fit in Generation no 26: 555.9389653015137\n",
            "Best fit in Generation no 27: 555.9389653015137\n",
            "Best fit in Generation no 28: 555.9389653015137\n",
            "Best fit in Generation no 29: 555.9389653015137\n",
            "Best fit in Generation no 30: 555.9389653015137\n",
            "Best fit in Generation no 31: 555.9389653015137\n",
            "Best fit in Generation no 32: 555.9389653015137\n",
            "Best fit in Generation no 33: 555.9389653015137\n",
            "Best fit in Generation no 34: 555.9389653015137\n",
            "Best fit in Generation no 35: 555.9389653015137\n",
            "Best fit in Generation no 36: 556.0721644592285\n",
            "Best fit in Generation no 37: 556.0721644592285\n",
            "Best fit in Generation no 38: 556.0721644592285\n",
            "Best fit in Generation no 39: 556.0721644592285\n",
            "Best fit in Generation no 40: 556.0721644592285\n",
            "Best fit in Generation no 41: 556.0721644592285\n",
            "Best fit in Generation no 42: 556.0721644592285\n",
            "Best fit in Generation no 43: 556.0721644592285\n",
            "Best fit in Generation no 44: 556.0721644592285\n",
            "Best fit in Generation no 45: 556.0721644592285\n",
            "Best fit in Generation no 46: 556.0721644592285\n",
            "Best fit in Generation no 47: 556.0721644592285\n",
            "Best fit in Generation no 48: 556.0721644592285\n",
            "Best fit in Generation no 49: 556.0721644592285\n",
            "Best fit in Generation no 50: 556.0721644592285\n",
            "Best fit in Generation no 51: 556.0721644592285\n",
            "Best fit in Generation no 52: 556.0721644592285\n",
            "Best fit in Generation no 53: 556.0721644592285\n",
            "Best fit in Generation no 54: 556.0721644592285\n",
            "Best fit in Generation no 55: 556.0721644592285\n",
            "Best fit in Generation no 56: 556.0721644592285\n",
            "Best fit in Generation no 57: 556.0721644592285\n",
            "Best fit in Generation no 58: 556.0721644592285\n",
            "Best fit in Generation no 59: 556.0721644592285\n",
            "Best fit in Generation no 60: 556.0721644592285\n",
            "Best fit in Generation no 61: 556.0721644592285\n",
            "Best fit in Generation no 62: 556.0721644592285\n",
            "Best fit in Generation no 63: 556.1864163208007\n",
            "Best fit in Generation no 64: 556.1864163208007\n",
            "Best fit in Generation no 65: 556.1864163208007\n",
            "Best fit in Generation no 66: 556.1864163208007\n",
            "Best fit in Generation no 67: 556.1864163208007\n",
            "Best fit in Generation no 68: 556.1864163208007\n",
            "Best fit in Generation no 69: 556.1864163208007\n",
            "Best fit in Generation no 70: 556.1864163208007\n",
            "Best fit in Generation no 71: 556.1864163208007\n",
            "Best fit in Generation no 72: 556.1864163208007\n",
            "Best fit in Generation no 73: 556.1864163208007\n",
            "Best fit in Generation no 74: 556.1864163208007\n",
            "Best fit in Generation no 75: 556.1864163208007\n",
            "Best fit in Generation no 76: 556.1864163208007\n",
            "Best fit in Generation no 77: 556.1864163208007\n",
            "Best fit in Generation no 78: 556.1864163208007\n",
            "Best fit in Generation no 79: 556.1864163208007\n",
            "Best fit in Generation no 80: 556.1864163208007\n",
            "Best fit in Generation no 81: 556.1864163208007\n",
            "Best fit in Generation no 82: 556.1864163208007\n",
            "Best fit in Generation no 83: 556.1864163208007\n",
            "Best fit in Generation no 84: 556.1864163208007\n",
            "Best fit in Generation no 85: 556.1864163208007\n",
            "Best fit in Generation no 86: 556.1864163208007\n",
            "Best fit in Generation no 87: 556.1864163208007\n",
            "Best fit in Generation no 88: 556.1864163208007\n",
            "Best fit in Generation no 89: 556.1864163208007\n",
            "Best fit in Generation no 90: 556.1864163208007\n",
            "Best fit in Generation no 91: 556.1864163208007\n",
            "Best fit in Generation no 92: 556.1864163208007\n",
            "Best fit in Generation no 93: 556.1864163208007\n",
            "Best fit in Generation no 94: 556.1864163208007\n",
            "Best fit in Generation no 95: 556.1864163208007\n",
            "Best fit in Generation no 96: 556.1864163208007\n",
            "Best fit in Generation no 97: 556.1864163208007\n",
            "Best fit in Generation no 98: 556.1864163208007\n",
            "Best fit in Generation no 99: 556.1864163208007\n"
          ],
          "name": "stdout"
        }
      ]
    },
    {
      "cell_type": "code",
      "metadata": {
        "id": "qC_K1gUfC66B",
        "colab": {
          "base_uri": "https://localhost:8080/",
          "height": 867
        },
        "outputId": "48eddaff-54fa-46e0-97c4-c59b6bd3a074"
      },
      "source": [
        "best_fit.turb_coords"
      ],
      "execution_count": null,
      "outputs": [
        {
          "output_type": "execute_result",
          "data": {
            "text/plain": [
              "array([[2741.21, 3932.83],\n",
              "       [3003.18,  393.8 ],\n",
              "       [1228.89, 1438.98],\n",
              "       [ 793.7 , 2920.22],\n",
              "       [ 791.96, 3460.07],\n",
              "       [2034.43,  519.72],\n",
              "       [1992.97,   51.81],\n",
              "       [3795.6 , 3483.69],\n",
              "       [1729.43, 3519.98],\n",
              "       [1230.88, 2932.06],\n",
              "       [2833.6 , 2813.23],\n",
              "       [2268.07, 1387.56],\n",
              "       [1100.7 , 1842.68],\n",
              "       [ 436.56, 2250.04],\n",
              "       [2928.87, 1336.51],\n",
              "       [3828.92, 1655.18],\n",
              "       [1804.88, 1846.6 ],\n",
              "       [1312.77,  942.25],\n",
              "       [2313.52, 1799.39],\n",
              "       [3259.35, 1110.59],\n",
              "       [2580.64, 1040.87],\n",
              "       [3747.4 , 2874.44],\n",
              "       [1877.39, 2940.75],\n",
              "       [3438.46,  166.96],\n",
              "       [2561.68,  195.03],\n",
              "       [ 640.28, 1002.86],\n",
              "       [3766.97, 2277.58],\n",
              "       [2314.29, 3240.43],\n",
              "       [2420.23, 2540.29],\n",
              "       [1435.29, 3902.92],\n",
              "       [3538.12,  659.2 ],\n",
              "       [ 164.32, 3949.96],\n",
              "       [  62.01, 1937.29],\n",
              "       [ 783.56,  551.22],\n",
              "       [1621.32, 2346.46],\n",
              "       [3910.1 , 3870.51],\n",
              "       [1824.61,  906.72],\n",
              "       [3869.29, 1185.05],\n",
              "       [  97.78, 3123.83],\n",
              "       [3302.56, 2837.62],\n",
              "       [ 731.9 , 3884.77],\n",
              "       [ 720.82,   51.55],\n",
              "       [3894.94,  239.92],\n",
              "       [3083.78, 2131.81],\n",
              "       [  91.31, 1026.1 ],\n",
              "       [ 951.55, 2398.95],\n",
              "       [ 163.41, 2578.85],\n",
              "       [3462.98, 3767.95],\n",
              "       [1123.73,  230.49],\n",
              "       [ 297.3 ,  467.61]])"
            ]
          },
          "metadata": {
            "tags": []
          },
          "execution_count": 19
        }
      ]
    },
    {
      "cell_type": "code",
      "metadata": {
        "id": "BS5mn_b2CNAz",
        "colab": {
          "base_uri": "https://localhost:8080/",
          "height": 262
        },
        "outputId": "dcc082dc-aa0f-44ed-cf65-6831c6a61085"
      },
      "source": [
        "import matplotlib.pyplot as plt\n",
        "plt.style.use('seaborn-white')\n",
        "plt.plot(best_fit.turb_coords[:,0], best_fit.turb_coords[:,1], 'P', color='b');"
      ],
      "execution_count": null,
      "outputs": [
        {
          "output_type": "display_data",
          "data": {
            "image/png": "[encoded data removed]",
            "text/plain": [
              "<Figure size 432x288 with 1 Axes>"
            ]
          },
          "metadata": {
            "tags": []
          }
        }
      ]
    },
    {
      "cell_type": "code",
      "metadata": {
        "id": "kGg5yFKNe6ys"
      },
      "source": [
        "Best_loc=pd.DataFrame(best_fit.turb_coords)"
      ],
      "execution_count": null,
      "outputs": []
    },
    {
      "cell_type": "code",
      "metadata": {
        "id": "T3tGdBw6D8iu"
      },
      "source": [
        "Best_loc.to_csv('Locations_2017_100intpop.csv')"
      ],
      "execution_count": null,
      "outputs": []
    }
  ]
}