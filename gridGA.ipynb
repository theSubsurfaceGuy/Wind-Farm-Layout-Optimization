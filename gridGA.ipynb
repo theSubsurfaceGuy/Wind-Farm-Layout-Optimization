{
  "nbformat": 4,
  "nbformat_minor": 0,
  "metadata": {
    "colab": {
      "name": "gridGA.ipynb",
      "provenance": [],
      "collapsed_sections": []
    },
    "kernelspec": {
      "display_name": "Python 3",
      "language": "python",
      "name": "python3"
    },
    "language_info": {
      "codemirror_mode": {
        "name": "ipython",
        "version": 3
      },
      "file_extension": ".py",
      "mimetype": "text/x-python",
      "name": "python",
      "nbconvert_exporter": "python",
      "pygments_lexer": "ipython3",
      "version": "3.8.5"
    }
  },
  "cells": [
    {
      "cell_type": "code",
      "metadata": {
        "id": "irr-pF6ke6w5"
      },
      "source": [
        "import random\n",
        "import numpy as np\n",
        "import pandas as pd\n",
        "import matplotlib.pyplot as plt"
      ],
      "execution_count": null,
      "outputs": []
    },
    {
      "cell_type": "code",
      "metadata": {
        "id": "Nqi35_Zje6xB"
      },
      "source": [
        "from Farm_Evaluator import getTurbLoc, loadPowerCurve, binWindResourceData, preProcessing, getAEP, checkConstraints"
      ],
      "execution_count": null,
      "outputs": []
    },
    {
      "cell_type": "code",
      "metadata": {
        "id": "hbKG8Kjce6xG"
      },
      "source": [
        "power_curve   =  loadPowerCurve('power_curve.csv')\n",
        "turb_rad = 50"
      ],
      "execution_count": null,
      "outputs": []
    },
    {
      "cell_type": "code",
      "metadata": {
        "id": "AgbcuDMce6xR"
      },
      "source": [
        "n_wind_instances, cos_dir, sin_dir, wind_sped_stacked, C_t = preProcessing(power_curve)"
      ],
      "execution_count": null,
      "outputs": []
    },
    {
      "cell_type": "code",
      "metadata": {
        "id": "Dw4TybG4r--C"
      },
      "source": [
        "# Years on which the data is available\n",
        "year_list = ['2007','2008','2009','2013','2014','2015','2017']\n",
        "\n",
        "wind_data_list = []\n",
        "for year in year_list:\n",
        "    wind_data_list.append(pd.read_csv(\"wind_data_{}.csv\".format(year)))"
      ],
      "execution_count": null,
      "outputs": []
    },
    {
      "cell_type": "code",
      "metadata": {
        "id": "TV4B642Be6xW"
      },
      "source": [
        "# Problem parameter\n",
        "min_lim = 50.0\n",
        "max_lim = 3950.0\n",
        "turb_count = 50\n",
        "penalty = 0.05\n",
        "proximity = 400.0"
      ],
      "execution_count": null,
      "outputs": []
    },
    {
      "cell_type": "code",
      "metadata": {
        "id": "KXhIGP9mr--Z",
        "colab": {
          "base_uri": "https://localhost:8080/",
          "height": 283
        },
        "outputId": "b3392197-6582-4137-ad3d-5bdbe746aa54"
      },
      "source": [
        "## Possible turbine locations\n",
        "Xt = np.arange(min_lim, max_lim, proximity)\n",
        "Yt = np.arange(min_lim, max_lim, proximity)\n",
        "\n",
        "Xt, Yt = np.meshgrid(Xt, Yt)\n",
        "Xt[::2] += 400/2\n",
        "turbs_possible_locs = np.vstack([Xt.flatten(), Yt.flatten()]).T\n",
        "\n",
        "plt.scatter(turbs_possible_locs[:,0], turbs_possible_locs[:,1])"
      ],
      "execution_count": null,
      "outputs": [
        {
          "output_type": "execute_result",
          "data": {
            "text/plain": [
              "<matplotlib.collections.PathCollection at 0x7f8951cde4e0>"
            ]
          },
          "metadata": {
            "tags": []
          },
          "execution_count": 46
        },
        {
          "output_type": "display_data",
          "data": {
            "image/png": "[encoded data removed]",
            "text/plain": [
              "<Figure size 432x288 with 1 Axes>"
            ]
          },
          "metadata": {
            "tags": [],
            "needs_background": "light"
          }
        }
      ]
    },
    {
      "cell_type": "code",
      "metadata": {
        "id": "jOFAC4fUe6xq"
      },
      "source": [
        "def calculate_AEP(idx):\n",
        "    turb_coords = turbs_possible_locs[idx,:]\n",
        "    aep = []\n",
        "    for wind_data in wind_data_list:\n",
        "        wind_inst_freq =  binWindResourceData(wind_data)\n",
        "        aep.append(getAEP(turb_rad, turb_coords, power_curve, wind_inst_freq, \n",
        "                  n_wind_instances, cos_dir, sin_dir, wind_sped_stacked, C_t))\n",
        "    return sum(aep)/len(aep)"
      ],
      "execution_count": null,
      "outputs": []
    },
    {
      "cell_type": "code",
      "metadata": {
        "id": "g_-OVvUke6xv"
      },
      "source": [
        "class TurbGroup:\n",
        "    def __init__(self):\n",
        "        self.turb_idx = np.random.choice(turbs_possible_locs.shape[0], turb_count, replace=False)\n",
        "        self.fitness = -1\n",
        "                    \n",
        "    def calculate_fitness(self):\n",
        "        fitness = calculate_AEP(self.turb_idx)\n",
        "        self.fitness = fitness\n"
      ],
      "execution_count": null,
      "outputs": []
    },
    {
      "cell_type": "code",
      "metadata": {
        "id": "BL_AS9yve6x3"
      },
      "source": [
        "def ga():\n",
        "\n",
        "    pop = init_pop(POP_SIZE)\n",
        "    pop = fitness(pop)\n",
        "    \n",
        "    for generation in range(GEN_COUNT):    \n",
        "        \n",
        "        nextgen_pop = []\n",
        "        for i in range(int(POP_SIZE/2)):\n",
        "            parent1 = selection(pop)\n",
        "            parent2 = selection(pop)\n",
        "            offsprings = crossover(parent1, parent2)\n",
        "            nextgen_pop.append(mutation(offsprings[0]))\n",
        "            nextgen_pop.append(mutation(offsprings[1]))\n",
        "        pop = fitness(nextgen_pop)\n",
        "        best = sorted(pop, key=lambda x: x.fitness, reverse=True)\n",
        "        print(\"Best fit in Generation no {}: {}\".format(generation, best[0].fitness))\n",
        "    return best[0]\n"
      ],
      "execution_count": null,
      "outputs": []
    },
    {
      "cell_type": "code",
      "metadata": {
        "id": "muIMmiX2e6x8"
      },
      "source": [
        "def init_pop(population_count):\n",
        "    return [TurbGroup() for _ in range(population_count)]"
      ],
      "execution_count": null,
      "outputs": []
    },
    {
      "cell_type": "code",
      "metadata": {
        "id": "sAZa6Gzxe6yA"
      },
      "source": [
        "def fitness(population):\n",
        "    for agent in population:\n",
        "        agent.calculate_fitness()\n",
        "    return population"
      ],
      "execution_count": null,
      "outputs": []
    },
    {
      "cell_type": "code",
      "metadata": {
        "id": "GLQSh4qke6yE"
      },
      "source": [
        "def selection(population):\n",
        "    players = random.sample(population, TOURNAMENT_SIZE)\n",
        "    sorted_players = sorted(players, key=lambda x: x.fitness, reverse=True)\n",
        "\n",
        "    return sorted_players[0]"
      ],
      "execution_count": null,
      "outputs": []
    },
    {
      "cell_type": "code",
      "metadata": {
        "id": "f6P305k6r-_j"
      },
      "source": [
        "def set_diff2d(A, B):\n",
        "    nrows, ncols = A.shape\n",
        "    dtype={'names':['f{}'.format(i) for i in range(ncols)],\n",
        "           'formats':ncols * [A.dtype]}\n",
        "    C = np.setdiff1d(A.view(dtype), B.view(dtype))   \n",
        "    return C.view(A.dtype).reshape(-1, ncols)"
      ],
      "execution_count": null,
      "outputs": []
    },
    {
      "cell_type": "code",
      "metadata": {
        "id": "b4XqxFDrr-_q"
      },
      "source": [
        "def remove_copies_and_append_new_location(locs):\n",
        "    locs = np.unique(locs)\n",
        "    diff = turb_count - locs.shape[0]\n",
        "    if diff > 0:\n",
        "        new_pool = np.setdiff1d(np.arange(turbs_possible_locs.shape[0]), locs)\n",
        "        new_locs = np.random.choice(new_pool, diff, replace=False)\n",
        "        locs = np.append(new_locs, locs)\n",
        "    return locs"
      ],
      "execution_count": null,
      "outputs": []
    },
    {
      "cell_type": "code",
      "metadata": {
        "id": "VRabuj7Fe6yJ"
      },
      "source": [
        "def crossover(p1, p2):\n",
        "    if random.random() < XO_PROB: \n",
        "\n",
        "        xo_pt = np.random.randint(turb_count)\n",
        "        \n",
        "        c = np.append(p1.turb_idx[:xo_pt], p2.turb_idx[xo_pt:])\n",
        "        d = np.append(p2.turb_idx[:xo_pt], p1.turb_idx[xo_pt:])\n",
        "        \n",
        "        # If contains duplicate, remove and add new locs\n",
        "        c = remove_copies_and_append_new_location(c)\n",
        "        d = remove_copies_and_append_new_location(d)\n",
        "        \n",
        "        p1.turb_coords = c\n",
        "        p2.turb_coords = d\n",
        "        \n",
        "    return p1, p2"
      ],
      "execution_count": null,
      "outputs": []
    },
    {
      "cell_type": "code",
      "metadata": {
        "id": "WAYZeVo7e6yN"
      },
      "source": [
        "def mutation(agent):\n",
        "    if random.random() < MUT_PROB:\n",
        "        return TurbGroup()\n",
        "    else:\n",
        "        return agent"
      ],
      "execution_count": null,
      "outputs": []
    },
    {
      "cell_type": "code",
      "metadata": {
        "id": "-KkPSxmte6xz"
      },
      "source": [
        "# GA parameters\n",
        "POP_SIZE = 50\n",
        "GEN_COUNT = 25\n",
        "TOURNAMENT_SIZE = 20\n",
        "MUT_PROB = 0.2\n",
        "XO_PROB = 0.80"
      ],
      "execution_count": null,
      "outputs": []
    },
    {
      "cell_type": "code",
      "metadata": {
        "id": "m3zouZhJe6yQ",
        "colab": {
          "base_uri": "https://localhost:8080/",
          "height": 395
        },
        "outputId": "405c478b-a1a3-4c0c-9861-686dcab95ff2"
      },
      "source": [
        "# best_fit is an instance of the class TurbGroup\n",
        "# you can get the location using the attribute turb_idx\n",
        "# eg: turbs_possible_locs[best_fit.turb_idx, :]\n",
        "best_fit = ga()"
      ],
      "execution_count": null,
      "outputs": [
        {
          "output_type": "error",
          "ename": "ValueError",
          "evalue": "ignored",
          "traceback": [
            "\u001b[0;31m---------------------------------------------------------------------------\u001b[0m",
            "\u001b[0;31mValueError\u001b[0m                                Traceback (most recent call last)",
            "\u001b[0;32m<ipython-input-58-822d1d367d0c>\u001b[0m in \u001b[0;36m<module>\u001b[0;34m()\u001b[0m\n\u001b[1;32m      2\u001b[0m \u001b[0;31m# you can get the location using the attribute turb_idx\u001b[0m\u001b[0;34m\u001b[0m\u001b[0;34m\u001b[0m\u001b[0;34m\u001b[0m\u001b[0m\n\u001b[1;32m      3\u001b[0m \u001b[0;31m# eg: turbs_possible_locs[best_fit.turb_idx, :]\u001b[0m\u001b[0;34m\u001b[0m\u001b[0;34m\u001b[0m\u001b[0;34m\u001b[0m\u001b[0m\n\u001b[0;32m----> 4\u001b[0;31m \u001b[0mbest_fit\u001b[0m \u001b[0;34m=\u001b[0m \u001b[0mga\u001b[0m\u001b[0;34m(\u001b[0m\u001b[0;34m)\u001b[0m\u001b[0;34m\u001b[0m\u001b[0;34m\u001b[0m\u001b[0m\n\u001b[0m",
            "\u001b[0;32m<ipython-input-49-32bf0d88e113>\u001b[0m in \u001b[0;36mga\u001b[0;34m()\u001b[0m\n\u001b[1;32m      1\u001b[0m \u001b[0;32mdef\u001b[0m \u001b[0mga\u001b[0m\u001b[0;34m(\u001b[0m\u001b[0;34m)\u001b[0m\u001b[0;34m:\u001b[0m\u001b[0;34m\u001b[0m\u001b[0;34m\u001b[0m\u001b[0m\n\u001b[1;32m      2\u001b[0m \u001b[0;34m\u001b[0m\u001b[0m\n\u001b[0;32m----> 3\u001b[0;31m     \u001b[0mpop\u001b[0m \u001b[0;34m=\u001b[0m \u001b[0minit_pop\u001b[0m\u001b[0;34m(\u001b[0m\u001b[0mPOP_SIZE\u001b[0m\u001b[0;34m)\u001b[0m\u001b[0;34m\u001b[0m\u001b[0;34m\u001b[0m\u001b[0m\n\u001b[0m\u001b[1;32m      4\u001b[0m     \u001b[0mpop\u001b[0m \u001b[0;34m=\u001b[0m \u001b[0mfitness\u001b[0m\u001b[0;34m(\u001b[0m\u001b[0mpop\u001b[0m\u001b[0;34m)\u001b[0m\u001b[0;34m\u001b[0m\u001b[0;34m\u001b[0m\u001b[0m\n\u001b[1;32m      5\u001b[0m \u001b[0;34m\u001b[0m\u001b[0m\n",
            "\u001b[0;32m<ipython-input-50-0d36cc1b4342>\u001b[0m in \u001b[0;36minit_pop\u001b[0;34m(population_count)\u001b[0m\n\u001b[1;32m      1\u001b[0m \u001b[0;32mdef\u001b[0m \u001b[0minit_pop\u001b[0m\u001b[0;34m(\u001b[0m\u001b[0mpopulation_count\u001b[0m\u001b[0;34m)\u001b[0m\u001b[0;34m:\u001b[0m\u001b[0;34m\u001b[0m\u001b[0;34m\u001b[0m\u001b[0m\n\u001b[0;32m----> 2\u001b[0;31m     \u001b[0;32mreturn\u001b[0m \u001b[0;34m[\u001b[0m\u001b[0mTurbGroup\u001b[0m\u001b[0;34m(\u001b[0m\u001b[0;34m)\u001b[0m \u001b[0;32mfor\u001b[0m \u001b[0m_\u001b[0m \u001b[0;32min\u001b[0m \u001b[0mrange\u001b[0m\u001b[0;34m(\u001b[0m\u001b[0mpopulation_count\u001b[0m\u001b[0;34m)\u001b[0m\u001b[0;34m]\u001b[0m\u001b[0;34m\u001b[0m\u001b[0;34m\u001b[0m\u001b[0m\n\u001b[0m",
            "\u001b[0;32m<ipython-input-50-0d36cc1b4342>\u001b[0m in \u001b[0;36m<listcomp>\u001b[0;34m(.0)\u001b[0m\n\u001b[1;32m      1\u001b[0m \u001b[0;32mdef\u001b[0m \u001b[0minit_pop\u001b[0m\u001b[0;34m(\u001b[0m\u001b[0mpopulation_count\u001b[0m\u001b[0;34m)\u001b[0m\u001b[0;34m:\u001b[0m\u001b[0;34m\u001b[0m\u001b[0;34m\u001b[0m\u001b[0m\n\u001b[0;32m----> 2\u001b[0;31m     \u001b[0;32mreturn\u001b[0m \u001b[0;34m[\u001b[0m\u001b[0mTurbGroup\u001b[0m\u001b[0;34m(\u001b[0m\u001b[0;34m)\u001b[0m \u001b[0;32mfor\u001b[0m \u001b[0m_\u001b[0m \u001b[0;32min\u001b[0m \u001b[0mrange\u001b[0m\u001b[0;34m(\u001b[0m\u001b[0mpopulation_count\u001b[0m\u001b[0;34m)\u001b[0m\u001b[0;34m]\u001b[0m\u001b[0;34m\u001b[0m\u001b[0;34m\u001b[0m\u001b[0m\n\u001b[0m",
            "\u001b[0;32m<ipython-input-48-154374dd1c2a>\u001b[0m in \u001b[0;36m__init__\u001b[0;34m(self)\u001b[0m\n\u001b[1;32m      1\u001b[0m \u001b[0;32mclass\u001b[0m \u001b[0mTurbGroup\u001b[0m\u001b[0;34m:\u001b[0m\u001b[0;34m\u001b[0m\u001b[0;34m\u001b[0m\u001b[0m\n\u001b[1;32m      2\u001b[0m     \u001b[0;32mdef\u001b[0m \u001b[0m__init__\u001b[0m\u001b[0;34m(\u001b[0m\u001b[0mself\u001b[0m\u001b[0;34m)\u001b[0m\u001b[0;34m:\u001b[0m\u001b[0;34m\u001b[0m\u001b[0;34m\u001b[0m\u001b[0m\n\u001b[0;32m----> 3\u001b[0;31m         \u001b[0mself\u001b[0m\u001b[0;34m.\u001b[0m\u001b[0mturb_idx\u001b[0m \u001b[0;34m=\u001b[0m \u001b[0mnp\u001b[0m\u001b[0;34m.\u001b[0m\u001b[0mrandom\u001b[0m\u001b[0;34m.\u001b[0m\u001b[0mchoice\u001b[0m\u001b[0;34m(\u001b[0m\u001b[0mturbs_possible_locs\u001b[0m\u001b[0;34m.\u001b[0m\u001b[0mshape\u001b[0m\u001b[0;34m[\u001b[0m\u001b[0;36m0\u001b[0m\u001b[0;34m]\u001b[0m\u001b[0;34m,\u001b[0m \u001b[0mturb_count\u001b[0m\u001b[0;34m,\u001b[0m \u001b[0mreplace\u001b[0m\u001b[0;34m=\u001b[0m\u001b[0;32mFalse\u001b[0m\u001b[0;34m)\u001b[0m\u001b[0;34m\u001b[0m\u001b[0;34m\u001b[0m\u001b[0m\n\u001b[0m\u001b[1;32m      4\u001b[0m         \u001b[0mself\u001b[0m\u001b[0;34m.\u001b[0m\u001b[0mfitness\u001b[0m \u001b[0;34m=\u001b[0m \u001b[0;34m-\u001b[0m\u001b[0;36m1\u001b[0m\u001b[0;34m\u001b[0m\u001b[0;34m\u001b[0m\u001b[0m\n\u001b[1;32m      5\u001b[0m \u001b[0;34m\u001b[0m\u001b[0m\n",
            "\u001b[0;32mmtrand.pyx\u001b[0m in \u001b[0;36mnumpy.random.mtrand.RandomState.choice\u001b[0;34m()\u001b[0m\n",
            "\u001b[0;31mValueError\u001b[0m: Cannot take a larger sample than population when 'replace=False'"
          ]
        }
      ]
    },
    {
      "cell_type": "code",
      "metadata": {
        "id": "kGg5yFKNe6ys",
        "colab": {
          "base_uri": "https://localhost:8080/",
          "height": 171
        },
        "outputId": "c3dfff85-b74c-4462-f858-65b9ab8bb966"
      },
      "source": [
        "loc = turbs_possible_locs[best_fit.turb_coords, :]"
      ],
      "execution_count": null,
      "outputs": [
        {
          "output_type": "error",
          "ename": "NameError",
          "evalue": "ignored",
          "traceback": [
            "\u001b[0;31m---------------------------------------------------------------------------\u001b[0m",
            "\u001b[0;31mNameError\u001b[0m                                 Traceback (most recent call last)",
            "\u001b[0;32m<ipython-input-59-465b758f255c>\u001b[0m in \u001b[0;36m<module>\u001b[0;34m()\u001b[0m\n\u001b[0;32m----> 1\u001b[0;31m \u001b[0mloc\u001b[0m \u001b[0;34m=\u001b[0m \u001b[0mturbs_possible_locs\u001b[0m\u001b[0;34m[\u001b[0m\u001b[0mbest_fit\u001b[0m\u001b[0;34m.\u001b[0m\u001b[0mturb_coords\u001b[0m\u001b[0;34m,\u001b[0m \u001b[0;34m:\u001b[0m\u001b[0;34m]\u001b[0m\u001b[0;34m\u001b[0m\u001b[0;34m\u001b[0m\u001b[0m\n\u001b[0m",
            "\u001b[0;31mNameError\u001b[0m: name 'best_fit' is not defined"
          ]
        }
      ]
    },
    {
      "cell_type": "code",
      "metadata": {
        "id": "tRWBrWzGe6yx"
      },
      "source": [
        "plt.scatter(loc[:,0], loc[:,1], c='black')"
      ],
      "execution_count": null,
      "outputs": []
    }
  ]
}