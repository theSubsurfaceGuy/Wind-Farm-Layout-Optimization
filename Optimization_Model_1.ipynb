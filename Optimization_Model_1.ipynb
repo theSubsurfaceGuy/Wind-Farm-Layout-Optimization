{
  "nbformat": 4,
  "nbformat_minor": 0,
  "metadata": {
    "colab": {
      "name": "Optimization Model 1.ipynb",
      "provenance": [],
      "collapsed_sections": []
    },
    "kernelspec": {
      "name": "python3",
      "display_name": "Python 3"
    }
  },
  "cells": [
    {
      "cell_type": "code",
      "metadata": {
        "id": "GqnGDHL_xgO-",
        "colab": {
          "base_uri": "https://localhost:8080/",
          "height": 34
        },
        "outputId": "460b5dd7-e041-406e-f6e1-d0bf8f05f405"
      },
      "source": [
        "#1\n",
        "from google.colab import drive\n",
        "drive.mount('/content/drive')"
      ],
      "execution_count": null,
      "outputs": [
        {
          "output_type": "stream",
          "text": [
            "Mounted at /content/drive\n"
          ],
          "name": "stdout"
        }
      ]
    },
    {
      "cell_type": "code",
      "metadata": {
        "id": "m79pxXXgxASV"
      },
      "source": [
        "#2\n",
        "import numpy as np\n",
        "import pandas as pd\n",
        "import math\n",
        "import matplotlib.pyplot as plt\n",
        "from itertools import combinations \n",
        "from Farm_Evaluator import getTurbLoc, loadPowerCurve, binWindResourceData, preProcessing, getAEP\n",
        "\n"
      ],
      "execution_count": null,
      "outputs": []
    },
    {
      "cell_type": "code",
      "metadata": {
        "id": "8qde9GwxCl-7"
      },
      "source": [
        "#3\n",
        "power_curve   =  loadPowerCurve('/content/drive/My Drive/Shell/Hackathon Data and Files/Data/Shell_Hackathon Dataset/power_curve.csv')"
      ],
      "execution_count": null,
      "outputs": []
    },
    {
      "cell_type": "code",
      "metadata": {
        "id": "Mhky7-5WCwLv"
      },
      "source": [
        "#4\n",
        "n_wind_instances, cos_dir, sin_dir, wind_sped_stacked, C_t = preProcessing(power_curve)"
      ],
      "execution_count": null,
      "outputs": []
    },
    {
      "cell_type": "code",
      "metadata": {
        "id": "rHNEpaAkDACW"
      },
      "source": [
        "#5\n",
        "# Years on which the data is available\n",
        "year_list = ['2007','2008','2009','2013','2014','2015','2017']\n",
        "\n",
        "wind_data_list = []\n",
        "for year in year_list:\n",
        "    wind_data_list.append(pd.read_csv(\"wind_data_{}.csv\".format(year)))"
      ],
      "execution_count": null,
      "outputs": []
    },
    {
      "cell_type": "code",
      "metadata": {
        "id": "C3XFFm7Z5RRf"
      },
      "source": [
        "#6\n",
        "def calculate_AEP(turb_coords):\n",
        "    aep = []\n",
        "    for wind_data in wind_data_list:\n",
        "        wind_inst_freq =  binWindResourceData(wind_data)\n",
        "        aep.append(getAEP(turb_rad, turb_coords, power_curve, wind_inst_freq, \n",
        "                  n_wind_instances, cos_dir, sin_dir, wind_sped_stacked, C_t))\n",
        "    return sum(aep)/len(aep)"
      ],
      "execution_count": null,
      "outputs": []
    },
    {
      "cell_type": "code",
      "metadata": {
        "id": "AbQbEgSc5VV7"
      },
      "source": [
        "#7\n",
        "turb_rad = 50"
      ],
      "execution_count": null,
      "outputs": []
    },
    {
      "cell_type": "code",
      "metadata": {
        "id": "SXYqNox-xVk2"
      },
      "source": [
        "#8\n",
        "data = pd.read_csv('/content/drive/My Drive/Shell/Hackathon Data and Files/Data/Shell_Hackathon Dataset/turbine_loc_test.csv')\n",
        "x0 = np.array(data['x'])\n",
        "y0 = np.array(data['y'])\n",
        "\n",
        "#parameters\n",
        "no_of_iterations = 7200\n",
        "no_of_blocks = no_of_iterations+1\n",
        "best_sol = 0\n",
        "voila_x = np.zeros(50)\n",
        "voila_y = np.zeros(50)\n"
      ],
      "execution_count": null,
      "outputs": []
    },
    {
      "cell_type": "code",
      "metadata": {
        "id": "zvskhCuxyY2T"
      },
      "source": [
        "#9\n",
        "x = np.zeros((50, no_of_blocks))\n",
        "y = np.zeros((50, no_of_blocks))"
      ],
      "execution_count": null,
      "outputs": []
    },
    {
      "cell_type": "code",
      "metadata": {
        "id": "-x9HorZ6N7Lk"
      },
      "source": [
        "#10\n",
        "for tullest in range(50):\n",
        "  x[tullest][0] = x0[tullest]\n",
        "  y[tullest][0] = y0[tullest]"
      ],
      "execution_count": null,
      "outputs": []
    },
    {
      "cell_type": "code",
      "metadata": {
        "id": "2hVdAQtX0RYl"
      },
      "source": [
        "#formula for mutation\n",
        "#def formula(x):\n",
        " # A = x+1\n",
        " # if(A>3950):\n",
        " #   A = A-3950\n",
        "  #if(A<50):\n",
        "  #  A += 3900\n",
        " # return A"
      ],
      "execution_count": null,
      "outputs": []
    },
    {
      "cell_type": "code",
      "metadata": {
        "id": "sZIJSwZwfU5o"
      },
      "source": [
        "#11\n",
        "def distance_constraint(coords):\n",
        "  cos = 0.099567846\n",
        "  sin = 0.995030775\n",
        "  for tuntun in range(50):\n",
        "    for con_row in range(50):\n",
        "      i = 0 #i is a flag that continues running the loop of changing the values to random numbers until the point is outside every other point's ellipse\n",
        "      while i > 0:\n",
        "        if (((((((coords[tuntun, 0]*cos) + (coords[tuntun, 1]*sin) -coords[con_row][0])/650)**2))+((((coords[tuntun, 1]*cos) - (coords[tuntun, 0]*sin) - coords[con_row, 1])/400)**2)) < 1):#x0, y0 are values of coordinates(origin shifting)\n",
        "         coords[con_row][0] = random.randrange(50, 3950)\n",
        "         coords[con_row][1] = random.randrange(50, 3950)\n",
        "         i = 1\n",
        "        else:\n",
        "          i = 0\n",
        "  return coords\n",
        "    "
      ],
      "execution_count": null,
      "outputs": []
    },
    {
      "cell_type": "code",
      "metadata": {
        "id": "GZWVafueL6ic"
      },
      "source": [
        ""
      ],
      "execution_count": null,
      "outputs": []
    },
    {
      "cell_type": "code",
      "metadata": {
        "id": "fV7ncHBblmwb"
      },
      "source": [
        "#mutation with a cloud\n",
        "distance = 50  #it is the amount of distance between two particles of a cloud in the same direction\n",
        "for i in range(50):\n",
        "  for j in range(7200):\n",
        "    x[i][j+1] = x[i][0] + ((j//360)+1)*distance*(math.cos((j*22)/(7*180)))\n",
        "    y[i][j+1] = y[i][0] + ((j//360)+1)*distance*(math.sin((j*22)/(7*180)))\n",
        "   #field boundary check for values of x:\n",
        "    if (x[i][j+1] > 3950):\n",
        "      x[i][j+1] = x[i][j+1]-3950\n",
        "    if (x[i][j+1]<50):\n",
        "      x[i][j+1] += 3900\n",
        "   #field boundary check for values of y:\n",
        "    if (y[i][j+1]>3950):\n",
        "      y[i][j+1] = x[i][j+1]-3950\n",
        "    if (y[i][j+1]<50):\n",
        "      y[i][j+1] += 3900\n",
        "      \n",
        "    \n",
        "\n",
        "\n",
        "      #note that the values have not been checked for distance constraints yet"
      ],
      "execution_count": null,
      "outputs": []
    },
    {
      "cell_type": "code",
      "metadata": {
        "id": "317a7YLm7caE",
        "colab": {
          "base_uri": "https://localhost:8080/",
          "height": 247
        },
        "outputId": "de945e8b-60f6-4c33-e6f8-321ec60bc23d"
      },
      "source": [
        "x\n",
        "\n",
        "\n",
        "\n"
      ],
      "execution_count": null,
      "outputs": [
        {
          "output_type": "execute_result",
          "data": {
            "text/plain": [
              "array([[3690.323986  , 3740.323986  , 3740.31636463, ...,  740.32236351,\n",
              "         740.20138737,  739.77559366],\n",
              "       [3259.406706  , 3309.406706  , 3309.39908463, ...,  309.40508351,\n",
              "         309.28410737,  308.85831366],\n",
              "       [ 478.5238229 ,  528.5238229 ,  528.51620153, ..., 1478.52220041,\n",
              "        1478.40122427, 1477.97543056],\n",
              "       ...,\n",
              "       [3757.538949  , 3807.538949  , 3807.53132763, ...,  807.53732651,\n",
              "         807.41635037,  806.99055666],\n",
              "       [2540.560461  , 2590.560461  , 2590.55283963, ..., 3540.55883851,\n",
              "        3540.43786237, 3540.01206866],\n",
              "       [1776.427277  , 1826.427277  , 1826.41965563, ..., 2776.42565451,\n",
              "        2776.30467837, 2775.87888466]])"
            ]
          },
          "metadata": {
            "tags": []
          },
          "execution_count": 22
        }
      ]
    },
    {
      "cell_type": "code",
      "metadata": {
        "id": "BIqWEKsZzXrX",
        "colab": {
          "base_uri": "https://localhost:8080/",
          "height": 282
        },
        "outputId": "0c899fdb-ef99-4981-c2ec-b61d4d0c19f4"
      },
      "source": [
        "plt.scatter(x, y, c ='red')\n",
        "plt.scatter(x0, y0, c ='blue')\n"
      ],
      "execution_count": null,
      "outputs": [
        {
          "output_type": "execute_result",
          "data": {
            "text/plain": [
              "<matplotlib.collections.PathCollection at 0x7f67bd5e3278>"
            ]
          },
          "metadata": {
            "tags": []
          },
          "execution_count": 42
        },
        {
          "output_type": "display_data",
          "data": {
            "image/png": "[encoded data removed]",
            "text/plain": [
              "<Figure size 432x288 with 1 Axes>"
            ]
          },
          "metadata": {
            "tags": [],
            "needs_background": "light"
          }
        }
      ]
    },
    {
      "cell_type": "code",
      "metadata": {
        "id": "dxMEt-_Uzaho",
        "colab": {
          "base_uri": "https://localhost:8080/",
          "height": 238
        },
        "outputId": "81f98dc1-cd53-408e-8e7b-b7318a31cba7"
      },
      "source": [
        "#mutation in which only one formula is used\n",
        "for j in range(no_of_iterations):\n",
        "  for i in range(no_of_iterations):\n",
        "      x[i][j+1] = formula(x[i,j])\n",
        "      y[i][j+1] = formula(y[i,j])\n",
        "  Turb_coords = np.zeros((50,50))\n",
        "  for tull in range(50):\n",
        "    Turb_coords[tull][0] = x[tull][j]\n",
        "    Turb_coords[tull][1] = y[tull][j]    \n",
        "  Turb_coords = distance_constraint(Turb_coords)"
      ],
      "execution_count": null,
      "outputs": [
        {
          "output_type": "error",
          "ename": "NameError",
          "evalue": "ignored",
          "traceback": [
            "\u001b[0;31m---------------------------------------------------------------------------\u001b[0m",
            "\u001b[0;31mNameError\u001b[0m                                 Traceback (most recent call last)",
            "\u001b[0;32m<ipython-input-33-e9bd1fe6fbb1>\u001b[0m in \u001b[0;36m<module>\u001b[0;34m()\u001b[0m\n\u001b[1;32m      2\u001b[0m \u001b[0;32mfor\u001b[0m \u001b[0mj\u001b[0m \u001b[0;32min\u001b[0m \u001b[0mrange\u001b[0m\u001b[0;34m(\u001b[0m\u001b[0mno_of_iterations\u001b[0m\u001b[0;34m)\u001b[0m\u001b[0;34m:\u001b[0m\u001b[0;34m\u001b[0m\u001b[0;34m\u001b[0m\u001b[0m\n\u001b[1;32m      3\u001b[0m   \u001b[0;32mfor\u001b[0m \u001b[0mi\u001b[0m \u001b[0;32min\u001b[0m \u001b[0mrange\u001b[0m\u001b[0;34m(\u001b[0m\u001b[0mno_of_iterations\u001b[0m\u001b[0;34m)\u001b[0m\u001b[0;34m:\u001b[0m\u001b[0;34m\u001b[0m\u001b[0;34m\u001b[0m\u001b[0m\n\u001b[0;32m----> 4\u001b[0;31m       \u001b[0mx\u001b[0m\u001b[0;34m[\u001b[0m\u001b[0mi\u001b[0m\u001b[0;34m]\u001b[0m\u001b[0;34m[\u001b[0m\u001b[0mj\u001b[0m\u001b[0;34m+\u001b[0m\u001b[0;36m1\u001b[0m\u001b[0;34m]\u001b[0m \u001b[0;34m=\u001b[0m \u001b[0mformula\u001b[0m\u001b[0;34m(\u001b[0m\u001b[0mx\u001b[0m\u001b[0;34m[\u001b[0m\u001b[0mi\u001b[0m\u001b[0;34m,\u001b[0m\u001b[0mj\u001b[0m\u001b[0;34m]\u001b[0m\u001b[0;34m)\u001b[0m\u001b[0;34m\u001b[0m\u001b[0;34m\u001b[0m\u001b[0m\n\u001b[0m\u001b[1;32m      5\u001b[0m       \u001b[0my\u001b[0m\u001b[0;34m[\u001b[0m\u001b[0mi\u001b[0m\u001b[0;34m]\u001b[0m\u001b[0;34m[\u001b[0m\u001b[0mj\u001b[0m\u001b[0;34m+\u001b[0m\u001b[0;36m1\u001b[0m\u001b[0;34m]\u001b[0m \u001b[0;34m=\u001b[0m \u001b[0mformula\u001b[0m\u001b[0;34m(\u001b[0m\u001b[0my\u001b[0m\u001b[0;34m[\u001b[0m\u001b[0mi\u001b[0m\u001b[0;34m,\u001b[0m\u001b[0mj\u001b[0m\u001b[0;34m]\u001b[0m\u001b[0;34m)\u001b[0m\u001b[0;34m\u001b[0m\u001b[0;34m\u001b[0m\u001b[0m\n\u001b[1;32m      6\u001b[0m   \u001b[0mTurb_coords\u001b[0m \u001b[0;34m=\u001b[0m \u001b[0mnp\u001b[0m\u001b[0;34m.\u001b[0m\u001b[0mzeros\u001b[0m\u001b[0;34m(\u001b[0m\u001b[0;34m(\u001b[0m\u001b[0;36m50\u001b[0m\u001b[0;34m,\u001b[0m\u001b[0;36m50\u001b[0m\u001b[0;34m)\u001b[0m\u001b[0;34m)\u001b[0m\u001b[0;34m\u001b[0m\u001b[0;34m\u001b[0m\u001b[0m\n",
            "\u001b[0;31mNameError\u001b[0m: name 'formula' is not defined"
          ]
        }
      ]
    },
    {
      "cell_type": "code",
      "metadata": {
        "id": "ROSLgAaz2rbE",
        "colab": {
          "base_uri": "https://localhost:8080/",
          "height": 565
        },
        "outputId": "71b09c52-ac6a-4e02-ad88-652b2cd02e3e"
      },
      "source": [
        "#13\n",
        "#Selection of best values\n",
        "\n",
        "#Calculating AEP values using one coloumn as a dataset\n",
        "one_coloumn = np.zeros((50, 2))\n",
        "for k in range(7200):\n",
        "  for tuller in range(50):\n",
        "    one_coloumn[tuller][0] = x[tuller][k]\n",
        "    one_coloumn[tuller][1] = y[tuller][k]\n",
        "  one_coloumn = distance_constraint(one_coloumn)\n",
        "  cost  = calculate_AEP(one_coloumn)\n",
        "  print(cost)\n",
        "  if (best_sol < cost):\n",
        "    best_sol = cost\n",
        "    print(best_sol)\n",
        "    #storing values corresponding to best_sol\n",
        "    for control in range(50):\n",
        "      voila_x[control] = one_coloumn[control][0]\n",
        "      voila_y[control] = one_coloumn[control][1]\n",
        "print(\"the best soln from data using one coloumn as a dataset out of 7200 coloumns is:\")\n",
        "print(best_sol)\n"
      ],
      "execution_count": null,
      "outputs": [
        {
          "output_type": "stream",
          "text": [
            "498.3410086277553\n",
            "498.2467877197265\n",
            "498.2467877197265\n",
            "498.2467877197265\n",
            "498.2467877197265\n",
            "498.2467877197265\n",
            "498.2467877197265\n",
            "498.2467877197265\n",
            "498.2467877197265\n",
            "498.2467877197265\n"
          ],
          "name": "stdout"
        },
        {
          "output_type": "error",
          "ename": "KeyboardInterrupt",
          "evalue": "ignored",
          "traceback": [
            "\u001b[0;31m---------------------------------------------------------------------------\u001b[0m",
            "\u001b[0;31mKeyboardInterrupt\u001b[0m                         Traceback (most recent call last)",
            "\u001b[0;32m<ipython-input-43-3677d0c9f376>\u001b[0m in \u001b[0;36m<module>\u001b[0;34m()\u001b[0m\n\u001b[1;32m      9\u001b[0m     \u001b[0mone_coloumn\u001b[0m\u001b[0;34m[\u001b[0m\u001b[0mtuller\u001b[0m\u001b[0;34m]\u001b[0m\u001b[0;34m[\u001b[0m\u001b[0;36m1\u001b[0m\u001b[0;34m]\u001b[0m \u001b[0;34m=\u001b[0m \u001b[0my\u001b[0m\u001b[0;34m[\u001b[0m\u001b[0mtuller\u001b[0m\u001b[0;34m]\u001b[0m\u001b[0;34m[\u001b[0m\u001b[0mk\u001b[0m\u001b[0;34m]\u001b[0m\u001b[0;34m\u001b[0m\u001b[0;34m\u001b[0m\u001b[0m\n\u001b[1;32m     10\u001b[0m   \u001b[0mone_coloumn\u001b[0m \u001b[0;34m=\u001b[0m \u001b[0mdistance_constraint\u001b[0m\u001b[0;34m(\u001b[0m\u001b[0mone_coloumn\u001b[0m\u001b[0;34m)\u001b[0m\u001b[0;34m\u001b[0m\u001b[0;34m\u001b[0m\u001b[0m\n\u001b[0;32m---> 11\u001b[0;31m   \u001b[0mcost\u001b[0m  \u001b[0;34m=\u001b[0m \u001b[0mcalculate_AEP\u001b[0m\u001b[0;34m(\u001b[0m\u001b[0mone_coloumn\u001b[0m\u001b[0;34m)\u001b[0m\u001b[0;34m\u001b[0m\u001b[0;34m\u001b[0m\u001b[0m\n\u001b[0m\u001b[1;32m     12\u001b[0m   \u001b[0mprint\u001b[0m\u001b[0;34m(\u001b[0m\u001b[0mcost\u001b[0m\u001b[0;34m)\u001b[0m\u001b[0;34m\u001b[0m\u001b[0;34m\u001b[0m\u001b[0m\n\u001b[1;32m     13\u001b[0m   \u001b[0;32mif\u001b[0m \u001b[0;34m(\u001b[0m\u001b[0mbest_sol\u001b[0m \u001b[0;34m<\u001b[0m \u001b[0mcost\u001b[0m\u001b[0;34m)\u001b[0m\u001b[0;34m:\u001b[0m\u001b[0;34m\u001b[0m\u001b[0;34m\u001b[0m\u001b[0m\n",
            "\u001b[0;32m<ipython-input-10-66ca35d6457e>\u001b[0m in \u001b[0;36mcalculate_AEP\u001b[0;34m(turb_coords)\u001b[0m\n\u001b[1;32m      3\u001b[0m     \u001b[0maep\u001b[0m \u001b[0;34m=\u001b[0m \u001b[0;34m[\u001b[0m\u001b[0;34m]\u001b[0m\u001b[0;34m\u001b[0m\u001b[0;34m\u001b[0m\u001b[0m\n\u001b[1;32m      4\u001b[0m     \u001b[0;32mfor\u001b[0m \u001b[0mwind_data\u001b[0m \u001b[0;32min\u001b[0m \u001b[0mwind_data_list\u001b[0m\u001b[0;34m:\u001b[0m\u001b[0;34m\u001b[0m\u001b[0;34m\u001b[0m\u001b[0m\n\u001b[0;32m----> 5\u001b[0;31m         \u001b[0mwind_inst_freq\u001b[0m \u001b[0;34m=\u001b[0m  \u001b[0mbinWindResourceData\u001b[0m\u001b[0;34m(\u001b[0m\u001b[0mwind_data\u001b[0m\u001b[0;34m)\u001b[0m\u001b[0;34m\u001b[0m\u001b[0;34m\u001b[0m\u001b[0m\n\u001b[0m\u001b[1;32m      6\u001b[0m         aep.append(getAEP(turb_rad, turb_coords, power_curve, wind_inst_freq, \n\u001b[1;32m      7\u001b[0m                   n_wind_instances, cos_dir, sin_dir, wind_sped_stacked, C_t))\n",
            "\u001b[0;32m/content/Farm_Evaluator.py\u001b[0m in \u001b[0;36mbinWindResourceData\u001b[0;34m(df)\u001b[0m\n\u001b[1;32m    141\u001b[0m \u001b[0;34m\u001b[0m\u001b[0m\n\u001b[1;32m    142\u001b[0m             \u001b[0;31m# because we already have drct in the multiples of 10\u001b[0m\u001b[0;34m\u001b[0m\u001b[0;34m\u001b[0m\u001b[0;34m\u001b[0m\u001b[0m\n\u001b[0;32m--> 143\u001b[0;31m             \u001b[0mfoo\u001b[0m \u001b[0;34m=\u001b[0m \u001b[0mwind_resource\u001b[0m\u001b[0;34m[\u001b[0m\u001b[0;34m(\u001b[0m\u001b[0mwind_resource\u001b[0m\u001b[0;34m[\u001b[0m\u001b[0;34m:\u001b[0m\u001b[0;34m,\u001b[0m\u001b[0;36m0\u001b[0m\u001b[0;34m]\u001b[0m \u001b[0;34m==\u001b[0m \u001b[0mslices_drct\u001b[0m\u001b[0;34m[\u001b[0m\u001b[0mi\u001b[0m\u001b[0;34m]\u001b[0m\u001b[0;34m)\u001b[0m\u001b[0;34m]\u001b[0m\u001b[0;34m\u001b[0m\u001b[0;34m\u001b[0m\u001b[0m\n\u001b[0m\u001b[1;32m    144\u001b[0m \u001b[0;34m\u001b[0m\u001b[0m\n\u001b[1;32m    145\u001b[0m             foo = foo[(foo[:,1] >= slices_sped[j]) \n",
            "\u001b[0;31mKeyboardInterrupt\u001b[0m: "
          ]
        }
      ]
    },
    {
      "cell_type": "code",
      "metadata": {
        "id": "9S6_jin_PaPe",
        "colab": {
          "base_uri": "https://localhost:8080/",
          "height": 70
        },
        "outputId": "1659016d-cb3e-4c1c-cdd5-1c1c2c261489"
      },
      "source": [
        "voila_x"
      ],
      "execution_count": null,
      "outputs": [
        {
          "output_type": "execute_result",
          "data": {
            "text/plain": [
              "array([0., 0., 0., 0., 0., 0., 0., 0., 0., 0., 0., 0., 0., 0., 0., 0., 0.,\n",
              "       0., 0., 0., 0., 0., 0., 0., 0., 0., 0., 0., 0., 0., 0., 0., 0., 0.,\n",
              "       0., 0., 0., 0., 0., 0., 0., 0., 0., 0., 0., 0., 0., 0., 0., 0.])"
            ]
          },
          "metadata": {
            "tags": []
          },
          "execution_count": 25
        }
      ]
    },
    {
      "cell_type": "code",
      "metadata": {
        "id": "gjUaqNgHxUV6"
      },
      "source": [
        "#WONT WORK WHEN YOU HAVE 7200 BLOCKS################################################################################################################\n",
        "#foreward loop\n",
        "chosen_x = np.zeros(50)\n",
        "chosen_y = np.zeros(50)\n",
        "for t in range(50):\n",
        "  j = t\n",
        "  for i in range(50):\n",
        "    chosen_x[i] = x[j][i]\n",
        "    chosen_y[i] = y[j][i]\n",
        "    if (j > 48):\n",
        "      j = j - 50\n",
        "    j = j + 1\n",
        "  TURB_COORDS = np.zeros((50, 50))\n",
        "  for wk in range(50):\n",
        "    TURB_COORDS[wk, 0] = chosen_x[wk]\n",
        "    TURB_COORDS[wk, 1] = chosen_y[wk]\n",
        "  TURB_COORDS = distance_constraint(TURB_COORDS)\n",
        "  cost = calculate_AEP(TURB_COORDS)\n",
        "  if (cost >  best_sol):\n",
        "    best_sol = cost\n",
        "    for tintin in range(50):\n",
        "      voila_x[tintin] = chosen_x[tintin]\n",
        "      voila_y[tintin] = chosen_y[tintin]\n",
        "    print(best_sol)\n",
        "      \n",
        "      \n",
        "\n",
        "  \n",
        "#backward loop\n",
        "t = 0\n",
        "for t in range(50):\n",
        "  j = (49)-t\n",
        "  for i in range(50):\n",
        "    chosen_x[i] = x[j][i]\n",
        "    chosen_y[i] = y[j][i]\n",
        "    if (j == 0):\n",
        "      j += 49\n",
        "    j = j - 1\n",
        "  for wk1 in range(50):\n",
        "    TURB_COORDS[wk1, 0] = chosen_x[wk1]\n",
        "    TURB_COORDS[wk1, 1] = chosen_y[wk1]\n",
        "  TURB_COORDS = distance_constraint(TURB_COORDS)\n",
        "  cost = calculate_AEP(TURB_COORDS)\n",
        "  if (cost >  best_sol):\n",
        "    best_sol = cost\n",
        "    for tintin in range(50):\n",
        "      voila_x[tintin] = chosen_x[tintin]\n",
        "      voila_y[tintin] = chosen_y[tintin]\n",
        "    print(best_sol)\n"
      ],
      "execution_count": null,
      "outputs": []
    },
    {
      "cell_type": "code",
      "metadata": {
        "id": "QxttfZ8pbMdT",
        "colab": {
          "base_uri": "https://localhost:8080/",
          "height": 1000
        },
        "outputId": "335fcdb8-0635-42ee-b619-2a041cc81b4c"
      },
      "source": [
        "#14\n",
        "#random approach\n",
        "best_sol = 0\n",
        "chosen_x = np.zeros(50)\n",
        "chosen_y = np.zeros(50)\n",
        "Row_values = np.zeros(50)\n",
        "for iter in range(100000):#here no_of_iters is the no of times you want different solutions\n",
        " for c1 in range(50):\n",
        "   count = 0\n",
        "   k = np.random.randint(0, 7199)\n",
        "   for c2 in range(50):\n",
        "     if (k == Row_values[c2]):\n",
        "       count += 1\n",
        "   if (count > 0):\n",
        "     c1 = c1 - 1\n",
        "     continue\n",
        "   chosen_x[c1] = x[c1][k]\n",
        "   chosen_y[c1] = y[c1][k]\n",
        "   Row_values[c1] = k\n",
        " TURB_COORDZ = np.zeros((50, 2))\n",
        " for pg in range(50):\n",
        "   TURB_COORDZ[pg, 0] = chosen_x[pg]\n",
        "   TURB_COORDZ[pg, 1] = chosen_y[pg]\n",
        " TURB_COORDZ = distance_constraint(TURB_COORDZ)\n",
        " cost = calculate_AEP(TURB_COORDZ)\n",
        " if (cost > best_sol):\n",
        "    best_sol = cost\n",
        "    print(best_sol)\n",
        "    for tintin in range(50):   \n",
        "      voila_x[tintin] = chosen_x[tintin]\n",
        "      voila_y[tintin] = chosen_y[tintin]\n",
        "    print(voila_x)\n",
        "    print(voila_y)\n",
        "     \n",
        "      \n",
        "\n",
        "      "
      ],
      "execution_count": null,
      "outputs": [
        {
          "output_type": "stream",
          "text": [
            "483.8370229012625\n",
            "[3946.28356891 2995.55937785  775.42190235 2713.21962018  173.47595616\n",
            " 2955.31525009 3031.52930739 1494.90975795 1482.05441634 3320.23772988\n",
            " 1231.52244626 2141.94873442 1614.81439552  412.77105905 2948.14252363\n",
            " 1727.6785198  2260.12306213 3859.89523902  385.68117949 2963.5277713\n",
            " 3783.04210892   67.5695029  2906.74349303 3551.87226586 3805.76771741\n",
            " 2375.13846677 1334.18714761 2035.15383514 1745.99180209 2450.04935305\n",
            " 2960.45989433 3040.25731962 1840.14638262 3294.38695549 2548.80677084\n",
            " 1991.57762525 3276.05075887  605.39801111 2672.02014938  402.37036141\n",
            " 2387.71173714  655.76017772 2819.38452357 2239.46635658 1458.99248465\n",
            " 1884.1828851   865.61750807 3887.99243471 1934.68168981 2366.19326275]\n",
            "[ 132.04289388 2912.55484597 3823.81396274  985.89757743 1338.14503875\n",
            " 1562.92095989  819.81270143 1327.75192199 2096.70921565  981.04743423\n",
            " 1132.24028264 2912.36490649  991.19907966 2458.70515362 1369.71061098\n",
            "  529.27770003  626.1092918  3167.42752889 3700.18521217 1371.19429684\n",
            " 3278.93886141 1250.07401442  446.59046927 2369.75484187 2881.33023154\n",
            " 1814.49909358 2588.09652754 3790.92991519 1324.50714192 3055.52086935\n",
            " 2086.69411664 2751.00034278 1856.08508621 2634.46633305 1603.17181208\n",
            " 3897.99888623 3126.18873142  745.53193138 3729.80943179  973.6590293\n",
            " 3497.58650001  222.1484578  1239.45599732  698.48295816 1659.40478863\n",
            " 3752.58546872 3612.16372868 3862.02745746  623.19636835 2688.25196558]\n",
            "490.6663368661063\n",
            "[3500.69980526 3078.96116221 1134.23799944 2512.22062957  374.66007715\n",
            " 2431.65658962 2422.63377645 1860.55726364 1450.54030148 3465.27328297\n",
            "  169.46870181 1902.94279718 1311.56605741  714.59158064 2202.31857875\n",
            " 2000.30960314 2698.63568802  294.25178863  659.69262579   60.17526952\n",
            "  486.89605759  401.25237773 2049.97576394 2926.59263072  304.24154035\n",
            " 1878.49502778  761.75920767  472.98357425 1100.40234278 2165.8043946\n",
            " 3860.47584364 2678.55963022  798.12769046 3233.73765038 1862.99709852\n",
            " 1664.45648824 3009.46656046 3424.37573578 2177.45752003  844.79479118\n",
            " 2697.82906701  964.85242637 2699.6217162  2265.9016399  1385.47203633\n",
            " 1543.68369306 1000.91227245 3636.76875256 3217.62232241 1842.38819982]\n",
            "[ 207.83834686 2382.68936146  690.18066806 1890.09068546 1151.5399145\n",
            " 1792.76335956  776.85791456 1808.10825421 2766.46147549  424.03821647\n",
            "  710.81982728 2814.1375367   444.01574821 2142.52964377 2030.95974869\n",
            "  798.18234228  448.47571703 3764.09340703 2635.53497472  840.64067681\n",
            " 2777.76629569 2110.96753446 3930.84146938 2479.96303785 2919.74027968\n",
            " 2465.8446697  2410.16269142 3132.19359535 1756.80004846 2707.72425484\n",
            " 1615.7307328  3046.54140848 2258.32044343 2339.89482067  757.89497311\n",
            " 3440.09315856 3515.71527999  939.17247843 3554.11598658 1627.84526835\n",
            " 3659.72534117 3409.65552613 1818.1735641  3819.71401166 1727.99809658\n",
            "  668.264064    950.91227245 3847.10342009 1491.37997447 2502.74580813]\n",
            "490.70785956246516\n",
            "[3771.33196042 3342.606492   1010.28276554 1289.54884792   51.8841219\n",
            " 3586.66356961 2428.30349439 1631.18073956 1245.32402601 3219.04294606\n",
            "  430.57732006 2460.43637072 1137.18587641  902.11367674 3578.55143722\n",
            " 1467.99463847 2718.48771112  565.05148102  113.56006248 3060.37197532\n",
            " 3403.47950429 3937.18926735 2946.8151972  3032.22867048 3737.72992902\n",
            " 2540.71888731 1869.3433463  1447.86284055 1766.23616479 2021.63166281\n",
            "  147.61770493 3435.03002046 1192.62427873 2202.07583604 1919.46368621\n",
            " 1184.93794062 3239.973434    197.28155709 1502.70208001  247.44763439\n",
            " 3338.42757352  911.62767222 2678.84493981 1257.85944583 1260.18338521\n",
            " 2303.86439883  997.47913638 3871.40300193 2284.06721367 2649.23068955]\n",
            "[ 497.00219605 2807.39939362 3697.22434961 1551.29611237 1386.48011014\n",
            " 1921.26409322  969.00329039 1809.18840582 2618.66810301 1346.1074512\n",
            " 1641.1052504  2594.1464037   704.48739891 2072.49623552 1284.21632594\n",
            "  184.64172378  841.90725196  515.05148102 2539.96245614  566.23020327\n",
            " 3188.65377907  976.34007695  107.44034687 3251.52298514 2775.26062388\n",
            " 2522.52019991 2970.67663244 3219.19825114  415.72824979 2765.67925795\n",
            " 2902.56199601 2336.377487   2682.93138696 2835.83722588 1602.50756714\n",
            " 2948.94887781 3623.84623129 1073.24862644 3328.63054811 1683.44744743\n",
            " 3209.25568136   57.09372798 1351.21794553  535.3111763  1316.93226403\n",
            "  567.43188877 3943.71668165 3605.10654232  522.83703379 2202.78776146]\n",
            "494.4775026593889\n",
            "[3930.88727869 2632.13288413  388.06149869 2896.53588323 3737.80341233\n",
            " 2998.2776546  3116.92886864 1754.03551984  550.48333672 3042.6839389\n",
            "  853.69824895 2115.79069443 1398.27817086  465.44837765 3231.34416847\n",
            " 1787.35392943 2020.99756793 3250.19474971  669.8028803  3670.4600814\n",
            " 3619.63228384  186.44044266 2298.47510707 2795.96693855  736.94085836\n",
            " 1676.5942422  1423.90203547 1203.03660924  580.09141499 2904.67768318\n",
            "  146.69351168 3170.89684361  939.074865   1945.24428315 2312.64150363\n",
            " 1776.85862889 3373.11927884  264.3099921  1620.93842936  841.56412468\n",
            " 3629.27902869 1179.13190255 1892.89626756 1108.476045   1661.73033751\n",
            " 1024.50703061  962.89537371 3158.76747883 2740.555067   2763.82221212]\n",
            "[ 565.88052897 2852.96309508  283.50050442 1627.58942264 1907.21831376\n",
            " 1372.84296669  766.73326831 1977.06415536 2453.70848698  346.97675528\n",
            " 1370.17859494 3403.47107373  710.0918877  2265.70139859 1239.10628576\n",
            "  901.21150602 3767.29655183 3403.12772842 2857.05086825  926.99311253\n",
            " 2342.93245629 1715.32632905   60.07166094 3452.91418387 3064.72136817\n",
            " 2179.6721044  2081.78834505 3318.34437617 1440.6734004  2646.55522243\n",
            " 2501.0374243  2375.87001354 2709.01787038 2680.02217437 1260.38372514\n",
            " 3425.37718852 3554.06770473 1064.45988049 3129.43382557 1961.84603901\n",
            " 2987.75284871 3737.65477335 2632.7416639  3909.56979955 1117.50476086\n",
            "  998.37431382 3728.80172179 3897.69111197 1063.78056854 2419.63083821]\n",
            "495.73480303083153\n",
            "[3704.08086655 3565.87634276 3813.49538983 1659.18946703 3921.76211647\n",
            " 3481.09461913 3834.04233635 1715.18098372  681.62083547 3094.53764718\n",
            " 1278.87459003 1924.47340192 1238.45284378  697.83041067 2954.80420991\n",
            " 1946.76512609 2394.33205741  251.6851605   746.26559265 3476.79610879\n",
            " 3879.34787714 3932.49872314 2461.05276165 2804.15853751 3857.55888208\n",
            " 2159.83436047 1229.29259024 1814.18180875 1428.21579571 1423.21653188\n",
            " 3332.71257708 2841.25933802 1720.82930273 2808.16161408 2277.0628301\n",
            " 1697.50113551 3260.51781489 3712.29233228 2647.28186668  485.17422419\n",
            " 3748.36014942  525.26302212 2093.82785462 1453.7802446  1537.35026684\n",
            " 2116.46868521 1119.40780745 2984.8119452  2814.32370566 1628.18862541]\n",
            "[ 418.82780295 2851.63379683 3732.92513525  794.05493664 1246.48360247\n",
            " 1499.4919886   292.05721366 1869.08654295 2883.73670906  692.29715315\n",
            "  664.71787156 3663.65667806 1377.46538199 1659.36307714 1602.58795083\n",
            " 1100.52713359  203.37090777  201.6851605  2714.62958099  970.42452459\n",
            " 1689.79458061 1572.3155902   558.89623763 3142.60127667 2762.76423848\n",
            " 2069.94545947 2578.99064133 3937.73312416 1195.68373787 2495.55928452\n",
            " 1833.11343332 2258.2385032  2510.78900664 2762.90781768 1530.56220483\n",
            " 3626.66847293 3496.13946352  843.27941478 3831.06157701 1748.12955967\n",
            " 3502.11609204 1017.66347403 1854.1682971   195.40462572 2163.88250055\n",
            "  271.4633119  3674.57575273 2934.8119452   942.55597296 1996.50724573]\n",
            "496.13664419991625\n",
            "[3729.81894817 3532.03846548   74.6989338  2209.07884605 3769.29320652\n",
            " 3455.23814609 2123.57139448 1765.62516115  893.53612726 3053.40445638\n",
            "  692.71110447 1944.02854637 1147.7213042   358.38154117 3706.31258925\n",
            " 2397.76655524 2482.77389454  438.92010606  159.89388626 3853.14889231\n",
            " 3887.28732103 3582.60698599 3013.18078607 3351.08796101 2956.99834619\n",
            " 1194.75619062 1078.06785808 1011.14294188 2037.23944773 1682.27258341\n",
            "  562.30455117 3823.58371365  197.49814369 2806.211721   3070.43412188\n",
            " 1443.24766201 2252.8008269   528.33333188 2581.17973437  839.11542885\n",
            " 3213.09442183  872.38257841 2124.9800114  2029.45592045 1398.02541508\n",
            "  826.46788602  858.0861259   179.34342589 2482.89010144  977.71105239]\n",
            "[ 278.88728229 2975.28602007 1074.06921605 1045.27700265 1691.43903756\n",
            "  565.98426339 1182.56138613 1914.83063159 2603.78403128  211.00577744\n",
            " 1577.00618953 2965.69401848  811.16591357 3109.09870978 1523.23626922\n",
            " 3710.62761852 3603.10638551 3516.15491659 2783.05381038  112.42632847\n",
            " 2637.16311275 1409.27946843   61.13374968 3298.41989962 2842.15408255\n",
            " 2497.78767456 2288.54163715 3186.46184184 1882.28958646 3384.22042278\n",
            " 2481.63926755 2629.04279665 1649.47312628 3446.8690786   843.66586449\n",
            " 1393.24766201 3762.23332432  647.94463222 2989.88701353 1897.78321647\n",
            " 3014.03452652   56.96490591 1569.4181561   548.90461381 1709.14544856\n",
            " 1279.51746958 3930.85836788  129.34342589  926.77875452 2532.60334081]\n",
            "498.10422232491635\n",
            "[ 299.04506555   96.14238422  715.48422841 2081.43621835  989.26052909\n",
            " 3933.77026769 3000.87401657 2358.18947946 1731.4244889  2621.33223529\n",
            "  224.71017389 1179.00498036 1007.39715023  432.04840349 2909.92567062\n",
            " 1858.16316255 2904.59370877 3641.91311223  698.01980778 3288.97195406\n",
            "  485.44636037 3882.49385628 3524.27971293 2505.77781046 3116.7281822\n",
            " 1919.94535291  243.465297   1217.96584396 1983.00653222 2670.7636381\n",
            " 2878.25965316 3103.9601198   121.77462218 2858.07871076 2077.95001169\n",
            " 1452.59649176 3234.45192422 1282.67714957 2467.91106652  754.17472875\n",
            " 3820.53586913  340.30044082 2624.17339611 2204.53802764  574.0397977\n",
            " 1255.39810264  987.11011483  369.72126608 2813.78840848 2034.22305444]\n",
            "[3770.42691426 2065.29833091  405.80713897 1271.49420312 1499.03922172\n",
            "  898.98087775  928.05263259 1957.139351   1821.95200918  503.9220636\n",
            " 1873.055374   2696.388601    471.62718668 3165.78982475 2287.09947564\n",
            "  497.92009102  214.16559895 3591.91311223 2824.20069357 1334.22637277\n",
            " 3061.71840818 1718.99535111  264.17106998 2595.14714057 2589.18040115\n",
            " 2297.4152182  1987.71979466 3403.60757965 2057.46126632 3391.18239235\n",
            " 1624.06134881 1998.75276981 1407.58841639 3293.71647175 1880.0479915\n",
            " 3310.70399752 3184.45192422  555.97071903 3679.88311172 1839.67473842\n",
            " 3862.57525435  544.00436684 2055.959201   3927.84990276 1347.65281089\n",
            " 1422.20755554 3788.5862837  3609.79887157  475.4643152  3335.23179984]\n",
            "498.9607508632115\n",
            "[3454.89712752 3031.66434403 3525.24303057 2409.24302304  319.56558891\n",
            " 3448.71641933   57.07021522 1817.06006839 1185.14484449 3073.77585236\n",
            " 1077.44484901 2561.3059734  1523.32518681 3897.40365142 2870.91791564\n",
            " 2404.16314322 2363.1383689   723.50043978  516.99925151  332.50819278\n",
            "  381.22594399 3540.77550165 2985.39320185 2544.43942327 3736.53302183\n",
            " 2580.57230148 1054.36418249  220.73972701 1067.9851212  2197.33191279\n",
            " 3922.05925329 3367.79814911  414.44153661 3027.81368166 2733.89112803\n",
            " 1045.9201308  2963.66395893 1297.26721642 2420.46767165  305.99925561\n",
            " 2726.94229753 3849.71451466 2846.68359209  956.67705242  825.32524876\n",
            " 1842.3118852   326.83552887 3852.00379057 2568.60856623 1607.76049179]\n",
            "[ 286.6493305  2127.49069001 3939.9191864   604.37601054  452.80166819\n",
            " 1759.97040103  510.12559501 1695.41744245 2123.22722072 3875.56665734\n",
            "  548.44963958 3010.64399302  303.30289955 1575.66082681 2138.70270125\n",
            " 1082.14188218  348.49619488 2972.54162886 2814.13606636  569.43269158\n",
            " 2215.13106408 1461.75269651  358.11587297 2281.04404434 2724.8246986\n",
            " 2705.79267862 3136.80445218 3627.17499703  744.98912718 2292.32929452\n",
            " 2542.28527409 2915.11809883 2683.60260484 3138.84934961 1361.9325582\n",
            " 3793.07276832 3740.60965682  859.04927657 3724.93971842 1725.19681833\n",
            " 3407.43479546  179.25475369 2671.61773142  728.49329896 2422.45874582\n",
            "  641.17886599 3556.07126615 3802.00379057 1023.85736196 2685.38465712]\n",
            "499.2790310668946\n",
            "[ 160.89472657 3909.32946624  709.8514795  2253.26202807  663.54008025\n",
            " 3596.13077044 2674.23047284 2298.24342964 2126.23440586 2527.80782279\n",
            "  401.17987255 1121.54699935 1070.66103252  430.89341357 2771.1080064\n",
            " 2431.63809736 2930.20557374  369.60088371 1459.82564745 3943.74614428\n",
            "  253.40081828 3782.68013978 3596.91988673 3116.18462183 3186.86578161\n",
            " 1741.58406858 1139.18221322  297.09714203 1078.94569205 2040.43655613\n",
            " 3724.56141033 3731.16151688  584.92925299 2415.90978837 2905.3110559\n",
            " 2226.25536132   53.68829572  718.59099688 2510.44351206  208.88375944\n",
            " 2904.63461601 3794.7327668  2787.70973118 1825.96477507  351.88645466\n",
            " 1308.39229534 1033.14197613 3730.27077401 2627.8896213  1584.30469617]\n",
            "[3.36349781e+03 2.69260862e+03 2.31319212e+02 1.74104917e+03\n",
            " 1.33499107e+03 1.50483692e+03 7.83889355e+02 2.01044554e+03\n",
            " 2.55587493e+03 1.14748345e+02 6.23416124e+02 2.69746707e+03\n",
            " 5.30915816e+02 1.61849028e+03 1.54004853e+03 2.21096501e+02\n",
            " 7.62019861e+02 3.33218470e+03 2.78387417e+03 1.62922796e+03\n",
            " 2.47519239e+03 7.39390669e+02 3.64801027e+03 2.73112986e+03\n",
            " 3.06231543e+03 2.00934140e+03 3.08041276e+03 3.02968079e+03\n",
            " 1.01057319e+03 3.67374138e+03 1.93830059e+03 2.16303670e+03\n",
            " 2.23968574e+03 3.44735695e+03 1.87793598e+03 3.38222225e+03\n",
            " 3.68829572e+00 3.48985093e+02 3.85527783e+03 1.87678477e+03\n",
            " 2.55514609e+03 2.22120554e+02 1.17453876e+03 1.59096408e+02\n",
            " 1.37395159e+03 7.17836778e+02 3.12157429e+03 3.68027077e+03\n",
            " 1.11396922e+03 2.11629113e+03]\n",
            "499.96483343941827\n",
            "[3726.03020146 3301.40267973 1208.44135537 2901.26144055 3324.71928278\n",
            "   62.54613148 2589.56817562 1732.65422383 1935.21587973 2916.07147352\n",
            "  950.21683184 2119.34562924 1481.91814415 3820.92543963 3048.83055022\n",
            " 2120.55088936 2605.9849008   252.23747728  109.99763587 3902.91947504\n",
            " 3612.29017427 3747.50219749 3029.79398712 2621.48303106 3927.15509251\n",
            " 2159.37723831 1194.80308473  998.5070743  1215.7187745  3120.21864624\n",
            "  553.324343   3008.137546   1480.24020486 1988.40696076 2145.94225671\n",
            " 1126.41765559 3293.66502352 1290.54849646 2200.33778832   64.14216671\n",
            " 2773.49223206 1840.20290294 2411.06243118 2211.26314285 1592.5848639\n",
            " 1503.12857511  689.44352675  555.74161306 2700.35576759 2053.55170878]\n",
            "[  72.89002894 2655.45280185 3542.58649947  756.04242546 1404.83268566\n",
            "  834.14410442  212.82920991 1956.63272071 1766.42803886  115.85567651\n",
            " 1537.9595162  3105.22845478 1042.09640744 2444.89475395 1545.45758367\n",
            "  286.33464575 3823.95848217 3444.51767757 2765.00155657  422.55763294\n",
            " 3288.93973361  853.71378376 3913.9740897  2624.88024442 3500.67136399\n",
            " 2369.35257296 2441.5225316  3435.33980818 1402.48959448 3095.06032692\n",
            " 1988.0064906  1945.66074532 1844.77950393 3271.11530572  631.42470072\n",
            " 3708.98311956 3922.5971515   210.45269046 3811.83912051 1367.80189339\n",
            " 2892.72816015  349.4872863  1607.44333575  274.6817905  1381.35696119\n",
            "  576.67409918 3600.02952215  505.74161306 1695.30138623 3165.87100656]\n"
          ],
          "name": "stdout"
        }
      ]
    },
    {
      "cell_type": "code",
      "metadata": {
        "id": "-B5QI7CZTkHI"
      },
      "source": [
        ""
      ],
      "execution_count": null,
      "outputs": []
    },
    {
      "cell_type": "code",
      "metadata": {
        "id": "PMCx72fC8Dfo"
      },
      "source": [
        "#FINALE\n",
        "print(\"Best cost out of above:\")\n",
        "print(best_sol)\n",
        "print(\"Best set of coordinates:\\n\")\n",
        "print(voila_x)\n",
        "print(voila_y)"
      ],
      "execution_count": null,
      "outputs": []
    },
    {
      "cell_type": "code",
      "metadata": {
        "id": "4RiZ7Lsqf7TU",
        "colab": {
          "base_uri": "https://localhost:8080/",
          "height": 167
        },
        "outputId": "b1c07bfb-134c-4894-990c-4e4ddc539419"
      },
      "source": [
        "voila_x"
      ],
      "execution_count": null,
      "outputs": [
        {
          "output_type": "error",
          "ename": "NameError",
          "evalue": "ignored",
          "traceback": [
            "\u001b[0;31m---------------------------------------------------------------------------\u001b[0m",
            "\u001b[0;31mNameError\u001b[0m                                 Traceback (most recent call last)",
            "\u001b[0;32m<ipython-input-2-045e99ec86b2>\u001b[0m in \u001b[0;36m<module>\u001b[0;34m()\u001b[0m\n\u001b[0;32m----> 1\u001b[0;31m \u001b[0mvoila_x\u001b[0m\u001b[0;34m\u001b[0m\u001b[0;34m\u001b[0m\u001b[0m\n\u001b[0m",
            "\u001b[0;31mNameError\u001b[0m: name 'voila_x' is not defined"
          ]
        }
      ]
    },
    {
      "cell_type": "code",
      "metadata": {
        "id": "jQONvXnH09AA"
      },
      "source": [
        "#t = 0\n",
        "  #for k in range(#blaaah):\n",
        "   # chosen_x = x[t][k]\n",
        "    #chosen_y = y[t, k]\n",
        "    "
      ],
      "execution_count": null,
      "outputs": []
    },
    {
      "cell_type": "code",
      "metadata": {
        "id": "jpa3uEFPCVWG"
      },
      "source": [
        "#a different approach (a bit wrong)\n",
        "i = 1000\n",
        "for a in range(#WHAT_HERE?????????):\n",
        "  for t in range(50):\n",
        "    if (a//(50-t) = i):\n",
        "      a += 50\n",
        "      t = t-1\n",
        "      i = t\n",
        "     continue\n",
        "    chosen_x[t] = x[a//(50-t), t]\n",
        "    chosen_y[t] = y[a//(50-t), t]\n",
        "    i = t\n",
        "  cost = calculation_AEP(chosen_x, chosen_y)\n",
        "  if (best_sol < cost):\n",
        "    best_sol = cost\n",
        "    voila_x = chosen_x.deepcopy()\n",
        "    voila_y = chosen_y.deepcopy()"
      ],
      "execution_count": null,
      "outputs": []
    }
  ]
}