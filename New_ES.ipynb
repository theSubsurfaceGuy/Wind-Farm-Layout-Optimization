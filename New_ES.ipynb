{
  "nbformat": 4,
  "nbformat_minor": 0,
  "metadata": {
    "colab": {
      "name": "New_ES.ipynb",
      "provenance": [],
      "collapsed_sections": []
    },
    "kernelspec": {
      "display_name": "Python 3",
      "language": "python",
      "name": "python3"
    },
    "language_info": {
      "codemirror_mode": {
        "name": "ipython",
        "version": 3
      },
      "file_extension": ".py",
      "mimetype": "text/x-python",
      "name": "python",
      "nbconvert_exporter": "python",
      "pygments_lexer": "ipython3",
      "version": "3.8.5"
    }
  },
  "cells": [
    {
      "cell_type": "code",
      "metadata": {
        "id": "irr-pF6ke6w5"
      },
      "source": [
        "import random\n",
        "import numpy as np\n",
        "import pandas as pd"
      ],
      "execution_count": null,
      "outputs": []
    },
    {
      "cell_type": "code",
      "metadata": {
        "id": "Nqi35_Zje6xB"
      },
      "source": [
        "from Farm_Evaluator import getTurbLoc, loadPowerCurve, binWindResourceData, preProcessing, getAEP, checkConstraints"
      ],
      "execution_count": null,
      "outputs": []
    },
    {
      "cell_type": "code",
      "metadata": {
        "id": "hbKG8Kjce6xG"
      },
      "source": [
        "power_curve   =  loadPowerCurve('power_curve.csv')\n",
        "turb_rad = 50"
      ],
      "execution_count": null,
      "outputs": []
    },
    {
      "cell_type": "code",
      "metadata": {
        "id": "AgbcuDMce6xR"
      },
      "source": [
        "n_wind_instances, cos_dir, sin_dir, wind_sped_stacked, C_t = preProcessing(power_curve)"
      ],
      "execution_count": null,
      "outputs": []
    },
    {
      "cell_type": "code",
      "metadata": {
        "id": "X9TVjRWkg-5O"
      },
      "source": [
        "# Years on which the data is available\n",
        "year_list = ['2007','2008','2009','2013','2014','2015','2017']\n",
        "wind_data_list = []\n",
        "for year in year_list:\n",
        "    wind_data_list.append(pd.read_csv(\"wind_data_{}.csv\".format(year)))"
      ],
      "execution_count": null,
      "outputs": []
    },
    {
      "cell_type": "code",
      "metadata": {
        "id": "TV4B642Be6xW"
      },
      "source": [
        "# Problem parameter\n",
        "min_lim = 50\n",
        "max_lim = 3950\n",
        "turb_count = 50\n",
        "penalty = 2"
      ],
      "execution_count": null,
      "outputs": []
    },
    {
      "cell_type": "code",
      "metadata": {
        "id": "duTpEDSSe6xa"
      },
      "source": [
        "def gen_coord():\n",
        "    x = round(random.uniform(min_lim, max_lim),2)\n",
        "    y = round(random.uniform(min_lim, max_lim),2)\n",
        "    return x,y"
      ],
      "execution_count": null,
      "outputs": []
    },
    {
      "cell_type": "code",
      "metadata": {
        "id": "lfxijvD_e6xe"
      },
      "source": [
        "def check_violation(turb1, turb2):\n",
        "    return np.linalg.norm(turb1 - turb2) > 8*turb_rad"
      ],
      "execution_count": null,
      "outputs": []
    },
    {
      "cell_type": "code",
      "metadata": {
        "id": "Gx0fTm2se6xm"
      },
      "source": [
        "def generate_turb_locations():\n",
        "    arr = [gen_coord()]\n",
        "    for i in range(turb_count-1):\n",
        "        while True:\n",
        "            new_cord = gen_coord()\n",
        "\n",
        "            if all([check_violation(np.array(cord), np.array(new_cord)) for cord in arr]):\n",
        "                arr.append(new_cord)\n",
        "                break\n",
        "    return arr"
      ],
      "execution_count": null,
      "outputs": []
    },
    {
      "cell_type": "code",
      "metadata": {
        "id": "jOFAC4fUe6xq"
      },
      "source": [
        "def calculate_AEP(turb_coords):\n",
        "    aep = []\n",
        "    for wind_data in wind_data_list:\n",
        "        wind_inst_freq =  binWindResourceData(wind_data)\n",
        "        aep.append(getAEP(turb_rad, turb_coords, power_curve, wind_inst_freq, \n",
        "                  n_wind_instances, cos_dir, sin_dir, wind_sped_stacked, C_t))\n",
        "    return sum(aep)/len(aep)"
      ],
      "execution_count": null,
      "outputs": []
    },
    {
      "cell_type": "code",
      "metadata": {
        "id": "g_-OVvUke6xv"
      },
      "source": [
        "class TurbGroup:\n",
        "    def __init__(self):\n",
        "        self.turb_coords = np.array(generate_turb_locations())\n",
        "        self.fitness = -1\n",
        "        self.violation_count = 0\n",
        "    \n",
        "    def count_violation(self):\n",
        "        for i,turb1 in enumerate(self.turb_coords):\n",
        "            for turb2 in np.delete(self.turb_coords, i, axis=0):\n",
        "                if  np.linalg.norm(turb1 - turb2) < 8*turb_rad:\n",
        "                    self.violation_count += 1\n",
        "                    \n",
        "        \n",
        "    def calculate_fitness(self):\n",
        "        self.count_violation()\n",
        "        fitness = calculate_AEP(self.turb_coords)\n",
        "        fitness -= fitness*penalty*self.violation_count\n",
        "        self.fitness = fitness\n"
      ],
      "execution_count": null,
      "outputs": []
    },
    {
      "cell_type": "code",
      "metadata": {
        "id": "-KkPSxmte6xz"
      },
      "source": [
        "# GA parameters\n",
        "POP_SIZE = 500\n",
        "GEN_COUNT = 100\n",
        "TOURNAMENT_SIZE = 3\n",
        "MUT_PROB = 0.9 #0.15\n",
        "XO_PROB = 0.75"
      ],
      "execution_count": null,
      "outputs": []
    },
    {
      "cell_type": "code",
      "metadata": {
        "id": "BL_AS9yve6x3"
      },
      "source": [
        "def ga():\n",
        "\n",
        "    pop = init_pop(POP_SIZE)\n",
        "    pop = fitness(pop)\n",
        "      \n",
        "    for generation in range(GEN_COUNT):    \n",
        "        nextgen_pop = []\n",
        "        for i in range(int(POP_SIZE/2)):\n",
        "            parent1 = selection(pop)\n",
        "            parent2 = selection(pop)\n",
        "            offspring = crossover(parent1, parent2)\n",
        "            nextgen_pop.append(mutation(offspring[0]))\n",
        "            nextgen_pop.append(mutation(offspring[1]))\n",
        "        pop = fitness(nextgen_pop)\n",
        "        best = sorted(pop, key=lambda x: x.fitness, reverse=True)\n",
        "        print(\"Best fit in Generation no {}: {}\".format(generation, best[0].fitness))\n",
        "    return best[0]\n"
      ],
      "execution_count": null,
      "outputs": []
    },
    {
      "cell_type": "code",
      "metadata": {
        "id": "muIMmiX2e6x8"
      },
      "source": [
        "def init_pop(population_count):\n",
        "    return [TurbGroup() for _ in range(population_count)]"
      ],
      "execution_count": null,
      "outputs": []
    },
    {
      "cell_type": "code",
      "metadata": {
        "id": "sAZa6Gzxe6yA"
      },
      "source": [
        "def fitness(population):\n",
        "    for agent in population:\n",
        "        agent.calculate_fitness()\n",
        "    return population"
      ],
      "execution_count": null,
      "outputs": []
    },
    {
      "cell_type": "code",
      "metadata": {
        "id": "GLQSh4qke6yE"
      },
      "source": [
        "def selection(population):\n",
        "    players = random.sample(population, TOURNAMENT_SIZE)\n",
        "    sorted_players = sorted(players, key=lambda x: x.fitness, reverse=True)\n",
        "\n",
        "    return sorted_players[0]"
      ],
      "execution_count": null,
      "outputs": []
    },
    {
      "cell_type": "code",
      "metadata": {
        "id": "VRabuj7Fe6yJ"
      },
      "source": [
        "def crossover(p1, p2):\n",
        "    if random.random() < XO_PROB:\n",
        "        xo_pt = random.randrange(turb_count)\n",
        "        p1.turb_coords[:xo_pt],p2.turb_coords[:xo_pt] = p1.turb_coords[:xo_pt],p2.turb_coords[:xo_pt]\n",
        "\n",
        "    return p1, p2"
      ],
      "execution_count": null,
      "outputs": []
    },
    {
      "cell_type": "code",
      "metadata": {
        "id": "WAYZeVo7e6yN"
      },
      "source": [
        "def mutation(agent):\n",
        "    if random.random() < MUT_PROB:\n",
        "        return TurbGroup()\n",
        "    else:\n",
        "        return agent"
      ],
      "execution_count": null,
      "outputs": []
    },
    {
      "cell_type": "code",
      "metadata": {
        "id": "m3zouZhJe6yQ",
        "colab": {
          "base_uri": "https://localhost:8080/",
          "height": 1000
        },
        "outputId": "39336585-da45-40c4-b0dc-7dd02c943c7d"
      },
      "source": [
        "# best_fit is an instance of the class TurbGroup\n",
        "# you can get the location using the attribute turb_coords\n",
        "# eg: best_fit.turb_coords\n",
        "best_fit = ga()"
      ],
      "execution_count": null,
      "outputs": [
        {
          "output_type": "stream",
          "text": [
            "Best fit in Generation no 0: 508.8590207781111\n",
            "Best fit in Generation no 1: 509.35512581961495\n",
            "Best fit in Generation no 2: 508.82677361624576\n",
            "Best fit in Generation no 3: 509.1528208269392\n",
            "Best fit in Generation no 4: 509.1528208269392\n",
            "Best fit in Generation no 5: 508.9628991263253\n",
            "Best fit in Generation no 6: 508.9940530831474\n",
            "Best fit in Generation no 7: 508.67769672938755\n",
            "Best fit in Generation no 8: 508.70463540213444\n",
            "Best fit in Generation no 9: 508.85152110508506\n",
            "Best fit in Generation no 10: 508.821417388916\n",
            "Best fit in Generation no 11: 509.9419621058873\n",
            "Best fit in Generation no 12: 509.4889646693638\n",
            "Best fit in Generation no 13: 510.0104807608468\n",
            "Best fit in Generation no 14: 509.5754949515207\n",
            "Best fit in Generation no 15: 509.4889646693638\n",
            "Best fit in Generation no 16: 508.89020815168107\n",
            "Best fit in Generation no 17: 509.4831310599191\n",
            "Best fit in Generation no 18: 509.44104505266466\n",
            "Best fit in Generation no 19: 509.12712812151227\n",
            "Best fit in Generation no 20: 509.2092712620327\n",
            "Best fit in Generation no 21: 509.4525117710659\n",
            "Best fit in Generation no 22: 508.64425611223487\n",
            "Best fit in Generation no 23: 509.78188156127925\n",
            "Best fit in Generation no 24: 508.97863364083423\n",
            "Best fit in Generation no 25: 508.67482766287674\n",
            "Best fit in Generation no 26: 508.76341546194897\n",
            "Best fit in Generation no 27: 509.1568117414202\n",
            "Best fit in Generation no 28: 508.95262586321144\n",
            "Best fit in Generation no 29: 508.9625124468122\n",
            "Best fit in Generation no 30: 508.8540607779366\n",
            "Best fit in Generation no 31: 508.7609521702358\n",
            "Best fit in Generation no 32: 508.6140664672852\n",
            "Best fit in Generation no 33: 509.98052980695456\n",
            "Best fit in Generation no 34: 508.94159833635604\n",
            "Best fit in Generation no 35: 508.980189906529\n",
            "Best fit in Generation no 36: 508.980189906529\n",
            "Best fit in Generation no 37: 508.9696636308942\n",
            "Best fit in Generation no 38: 509.28856920514784\n",
            "Best fit in Generation no 39: 508.87929997035434\n",
            "Best fit in Generation no 40: 508.5572245788574\n",
            "Best fit in Generation no 41: 508.7047022356306\n",
            "Best fit in Generation no 42: 509.7763487025669\n",
            "Best fit in Generation no 43: 508.9920289829799\n",
            "Best fit in Generation no 44: 508.86309762137273\n",
            "Best fit in Generation no 45: 508.7379041617258\n",
            "Best fit in Generation no 46: 508.0962405395508\n",
            "Best fit in Generation no 47: 508.7021100507464\n",
            "Best fit in Generation no 48: 508.49662091936386\n",
            "Best fit in Generation no 49: 509.01671918596537\n",
            "Best fit in Generation no 50: 509.36898899623327\n",
            "Best fit in Generation no 51: 509.36898899623327\n",
            "Best fit in Generation no 52: 508.6691945539202\n",
            "Best fit in Generation no 53: 508.3830421665736\n",
            "Best fit in Generation no 54: 508.538057686942\n",
            "Best fit in Generation no 55: 508.538057686942\n",
            "Best fit in Generation no 56: 509.6209894670759\n",
            "Best fit in Generation no 57: 508.669571685791\n",
            "Best fit in Generation no 58: 508.6181958225795\n",
            "Best fit in Generation no 59: 508.6181958225795\n",
            "Best fit in Generation no 60: 509.52185152326314\n",
            "Best fit in Generation no 61: 509.52185152326314\n",
            "Best fit in Generation no 62: 509.52185152326314\n",
            "Best fit in Generation no 63: 509.1601343209403\n",
            "Best fit in Generation no 64: 508.829461277553\n",
            "Best fit in Generation no 65: 508.99321766444615\n",
            "Best fit in Generation no 66: 508.57424802507666\n",
            "Best fit in Generation no 67: 508.4739166259766\n",
            "Best fit in Generation no 68: 509.111064213344\n",
            "Best fit in Generation no 69: 509.060151410784\n",
            "Best fit in Generation no 70: 509.2132526288714\n",
            "Best fit in Generation no 71: 509.18880111694335\n",
            "Best fit in Generation no 72: 509.18880111694335\n",
            "Best fit in Generation no 73: 509.18880111694335\n",
            "Best fit in Generation no 74: 508.3901838030134\n",
            "Best fit in Generation no 75: 509.14139229910717\n",
            "Best fit in Generation no 76: 509.368597542899\n",
            "Best fit in Generation no 77: 510.26231414794927\n",
            "Best fit in Generation no 78: 510.26231414794927\n",
            "Best fit in Generation no 79: 510.26231414794927\n",
            "Best fit in Generation no 80: 509.4225035313197\n",
            "Best fit in Generation no 81: 509.11514583042697\n",
            "Best fit in Generation no 82: 508.91134663173136\n",
            "Best fit in Generation no 83: 508.91134663173136\n",
            "Best fit in Generation no 84: 508.7953332301548\n",
            "Best fit in Generation no 85: 509.19042898995536\n",
            "Best fit in Generation no 86: 508.79949600219726\n",
            "Best fit in Generation no 87: 508.65591855730327\n",
            "Best fit in Generation no 88: 508.7325097438267\n",
            "Best fit in Generation no 89: 509.1855835614885\n",
            "Best fit in Generation no 90: 508.9766954694475\n",
            "Best fit in Generation no 91: 508.3354089791434\n",
            "Best fit in Generation no 92: 509.4826727730887\n",
            "Best fit in Generation no 93: 509.4826727730887\n",
            "Best fit in Generation no 94: 509.04146667480467\n",
            "Best fit in Generation no 95: 509.40570445469444\n",
            "Best fit in Generation no 96: 509.4065398733956\n",
            "Best fit in Generation no 97: 508.4277299063546\n",
            "Best fit in Generation no 98: 508.87342817034045\n",
            "Best fit in Generation no 99: 509.72148317609515\n"
          ],
          "name": "stdout"
        }
      ]
    },
    {
      "cell_type": "code",
      "metadata": {
        "id": "kGg5yFKNe6ys",
        "colab": {
          "base_uri": "https://localhost:8080/",
          "height": 867
        },
        "outputId": "1e99cbb1-acf4-4001-bb60-97a562010390"
      },
      "source": [
        "best_fit.turb_coords"
      ],
      "execution_count": null,
      "outputs": [
        {
          "output_type": "execute_result",
          "data": {
            "text/plain": [
              "array([[2811.74,  465.4 ],\n",
              "       [2527.14, 2873.87],\n",
              "       [1745.46, 1517.64],\n",
              "       [3412.27, 1853.8 ],\n",
              "       [3152.48, 2446.51],\n",
              "       [2308.61, 1792.03],\n",
              "       [3365.2 , 3511.55],\n",
              "       [ 528.25, 1053.7 ],\n",
              "       [1038.75, 2650.12],\n",
              "       [3740.04, 3240.75],\n",
              "       [1074.61, 1616.64],\n",
              "       [ 162.82, 3437.37],\n",
              "       [3937.64,   52.34],\n",
              "       [2514.68,   80.49],\n",
              "       [1712.37, 2085.23],\n",
              "       [3358.66,   56.73],\n",
              "       [2238.06, 3873.95],\n",
              "       [2942.21, 3751.52],\n",
              "       [1814.44,  674.22],\n",
              "       [ 983.64, 3420.39],\n",
              "       [3785.91, 1295.37],\n",
              "       [2779.58, 1715.29],\n",
              "       [1519.87, 2876.45],\n",
              "       [3244.71,  994.24],\n",
              "       [ 393.57, 1711.2 ],\n",
              "       [ 746.28, 3844.16],\n",
              "       [3835.23,  455.06],\n",
              "       [3874.31,  858.41],\n",
              "       [2477.27, 3468.6 ],\n",
              "       [3731.04, 3686.96],\n",
              "       [ 588.4 , 2258.91],\n",
              "       [2001.85,   53.08],\n",
              "       [2771.04, 1192.55],\n",
              "       [3690.24, 2194.75],\n",
              "       [ 249.86,  729.83],\n",
              "       [1153.94,  566.76],\n",
              "       [1567.53, 3664.33],\n",
              "       [1530.7 ,  101.42],\n",
              "       [ 206.57, 2970.74],\n",
              "       [1248.91, 2094.88],\n",
              "       [1148.8 , 1171.6 ],\n",
              "       [2236.62, 2320.18],\n",
              "       [3457.54, 2898.76],\n",
              "       [1980.94, 2971.68],\n",
              "       [2341.22, 1392.21],\n",
              "       [  57.09, 2548.5 ],\n",
              "       [2943.63,   81.67],\n",
              "       [ 218.64, 3866.69],\n",
              "       [2234.79,  432.55],\n",
              "       [ 218.73,  170.96]])"
            ]
          },
          "metadata": {
            "tags": []
          },
          "execution_count": 20
        }
      ]
    },
    {
      "cell_type": "code",
      "metadata": {
        "id": "DwVLA0KSLfc4",
        "colab": {
          "base_uri": "https://localhost:8080/",
          "height": 68
        },
        "outputId": "ae122056-9957-4ffe-d39e-c0c9ffcb3f2b"
      },
      "source": [
        "checkConstraints(best_fit.turb_coords, turb_rad*2)"
      ],
      "execution_count": null,
      "outputs": [
        {
          "output_type": "stream",
          "text": [
            "Both perimeter and proximity constraints are satisfied !!\n",
            "\n"
          ],
          "name": "stdout"
        },
        {
          "output_type": "execute_result",
          "data": {
            "text/plain": [
              "()"
            ]
          },
          "metadata": {
            "tags": []
          },
          "execution_count": 21
        }
      ]
    },
    {
      "cell_type": "code",
      "metadata": {
        "id": "TnxrPHUX7co0",
        "colab": {
          "base_uri": "https://localhost:8080/",
          "height": 214
        },
        "outputId": "4ec74083-ddc1-456e-911f-aabe49a0ef9f"
      },
      "source": [
        "count = 50\n",
        "for _ in range(count):\n",
        "    locs = np.array(generate_turb_locations())\n",
        "    plt.scatter(locs[:,0],locs[:,1])\n",
        "plt.scatter(best_fit.turb_coords[:,0],best_fit.turb_coords[:,1], c='black')"
      ],
      "execution_count": null,
      "outputs": [
        {
          "output_type": "error",
          "ename": "NameError",
          "evalue": "ignored",
          "traceback": [
            "\u001b[0;31m---------------------------------------------------------------------------\u001b[0m",
            "\u001b[0;31mNameError\u001b[0m                                 Traceback (most recent call last)",
            "\u001b[0;32m<ipython-input-22-a8e40cd3163f>\u001b[0m in \u001b[0;36m<module>\u001b[0;34m()\u001b[0m\n\u001b[1;32m      2\u001b[0m \u001b[0;32mfor\u001b[0m \u001b[0m_\u001b[0m \u001b[0;32min\u001b[0m \u001b[0mrange\u001b[0m\u001b[0;34m(\u001b[0m\u001b[0mcount\u001b[0m\u001b[0;34m)\u001b[0m\u001b[0;34m:\u001b[0m\u001b[0;34m\u001b[0m\u001b[0;34m\u001b[0m\u001b[0m\n\u001b[1;32m      3\u001b[0m     \u001b[0mlocs\u001b[0m \u001b[0;34m=\u001b[0m \u001b[0mnp\u001b[0m\u001b[0;34m.\u001b[0m\u001b[0marray\u001b[0m\u001b[0;34m(\u001b[0m\u001b[0mgenerate_turb_locations\u001b[0m\u001b[0;34m(\u001b[0m\u001b[0;34m)\u001b[0m\u001b[0;34m)\u001b[0m\u001b[0;34m\u001b[0m\u001b[0;34m\u001b[0m\u001b[0m\n\u001b[0;32m----> 4\u001b[0;31m     \u001b[0mplt\u001b[0m\u001b[0;34m.\u001b[0m\u001b[0mscatter\u001b[0m\u001b[0;34m(\u001b[0m\u001b[0mlocs\u001b[0m\u001b[0;34m[\u001b[0m\u001b[0;34m:\u001b[0m\u001b[0;34m,\u001b[0m\u001b[0;36m0\u001b[0m\u001b[0;34m]\u001b[0m\u001b[0;34m,\u001b[0m\u001b[0mlocs\u001b[0m\u001b[0;34m[\u001b[0m\u001b[0;34m:\u001b[0m\u001b[0;34m,\u001b[0m\u001b[0;36m1\u001b[0m\u001b[0;34m]\u001b[0m\u001b[0;34m)\u001b[0m\u001b[0;34m\u001b[0m\u001b[0;34m\u001b[0m\u001b[0m\n\u001b[0m\u001b[1;32m      5\u001b[0m \u001b[0mplt\u001b[0m\u001b[0;34m.\u001b[0m\u001b[0mscatter\u001b[0m\u001b[0;34m(\u001b[0m\u001b[0mbest_fit\u001b[0m\u001b[0;34m.\u001b[0m\u001b[0mturb_coords\u001b[0m\u001b[0;34m[\u001b[0m\u001b[0;34m:\u001b[0m\u001b[0;34m,\u001b[0m\u001b[0;36m0\u001b[0m\u001b[0;34m]\u001b[0m\u001b[0;34m,\u001b[0m\u001b[0mbest_fit\u001b[0m\u001b[0;34m.\u001b[0m\u001b[0mturb_coords\u001b[0m\u001b[0;34m[\u001b[0m\u001b[0;34m:\u001b[0m\u001b[0;34m,\u001b[0m\u001b[0;36m1\u001b[0m\u001b[0;34m]\u001b[0m\u001b[0;34m,\u001b[0m \u001b[0mc\u001b[0m\u001b[0;34m=\u001b[0m\u001b[0;34m'black'\u001b[0m\u001b[0;34m)\u001b[0m\u001b[0;34m\u001b[0m\u001b[0;34m\u001b[0m\u001b[0m\n",
            "\u001b[0;31mNameError\u001b[0m: name 'plt' is not defined"
          ]
        }
      ]
    },
    {
      "cell_type": "code",
      "metadata": {
        "id": "TI8TI5Xm2M8o"
      },
      "source": [
        "import pandas as pd\n",
        "loc=pd.DataFrame(best_fit.turb_coords)\n",
        "loc.to_csv('MAIN.csv')"
      ],
      "execution_count": null,
      "outputs": []
    },
    {
      "cell_type": "code",
      "metadata": {
        "id": "4YiZ7YL9aX_U"
      },
      "source": [
        ""
      ],
      "execution_count": null,
      "outputs": []
    }
  ]
}