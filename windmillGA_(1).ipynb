{
  "nbformat": 4,
  "nbformat_minor": 0,
  "metadata": {
    "kernelspec": {
      "display_name": "Python 3",
      "language": "python",
      "name": "python3"
    },
    "language_info": {
      "codemirror_mode": {
        "name": "ipython",
        "version": 3
      },
      "file_extension": ".py",
      "mimetype": "text/x-python",
      "name": "python",
      "nbconvert_exporter": "python",
      "pygments_lexer": "ipython3",
      "version": "3.8.5"
    },
    "colab": {
      "name": "windmillGA (1).ipynb",
      "provenance": []
    }
  },
  "cells": [
    {
      "cell_type": "code",
      "metadata": {
        "id": "uF9_ztEXXFSk"
      },
      "source": [
        "import random\n",
        "import numpy as np"
      ],
      "execution_count": null,
      "outputs": []
    },
    {
      "cell_type": "code",
      "metadata": {
        "id": "Ni2LJOa1XFS6"
      },
      "source": [
        "from Farm_Evaluator_Vec import getTurbLoc, loadPowerCurve, binWindResourceData, preProcessing, getAEP, checkConstraints"
      ],
      "execution_count": null,
      "outputs": []
    },
    {
      "cell_type": "code",
      "metadata": {
        "id": "iL70jjoWXFTI"
      },
      "source": [
        "#turb_coords   =  getTurbLoc(r'turbine_loc_test.csv')\n",
        "power_curve   =  loadPowerCurve('power_curve.csv')\n",
        "wind_inst_freq =  binWindResourceData(r'wind_data_2007.csv')\n",
        "turb_rad = 50"
      ],
      "execution_count": null,
      "outputs": []
    },
    {
      "cell_type": "code",
      "metadata": {
        "id": "o5_aCgDtXFTW"
      },
      "source": [
        "n_wind_instances, cos_dir, sin_dir, wind_sped_stacked, C_t = preProcessing(power_curve)"
      ],
      "execution_count": null,
      "outputs": []
    },
    {
      "cell_type": "code",
      "metadata": {
        "id": "MfqPmWkEXFTk"
      },
      "source": [
        "# Problem parameter\n",
        "min_lim = 50\n",
        "max_lim = 3950\n",
        "turb_count = 50\n",
        "penalty = 0.05"
      ],
      "execution_count": null,
      "outputs": []
    },
    {
      "cell_type": "code",
      "metadata": {
        "id": "9L69ARkWXFTx"
      },
      "source": [
        "def gen_coord():\n",
        "    x = round(random.uniform(min_lim, max_lim),2)\n",
        "    y = round(random.uniform(min_lim, max_lim),2)\n",
        "    return x,y"
      ],
      "execution_count": null,
      "outputs": []
    },
    {
      "cell_type": "code",
      "metadata": {
        "id": "TgVwOFhXXFT9"
      },
      "source": [
        "def check_violation(turb1, turb2):\n",
        "    return np.linalg.norm(turb1 - turb2) > 8*turb_rad"
      ],
      "execution_count": null,
      "outputs": []
    },
    {
      "cell_type": "code",
      "metadata": {
        "id": "f2u5UNo8XFUK"
      },
      "source": [
        "def generate_turb_locations():\n",
        "    arr = [gen_coord()]\n",
        "    for i in range(turb_count-1):\n",
        "        while True:\n",
        "            new_cord = gen_coord()\n",
        "\n",
        "            if all([check_violation(np.array(cord), np.array(new_cord)) for cord in arr]):\n",
        "                arr.append(new_cord)\n",
        "                break\n",
        "    return arr"
      ],
      "execution_count": null,
      "outputs": []
    },
    {
      "cell_type": "code",
      "metadata": {
        "id": "_gCABiMtXFUX"
      },
      "source": [
        "def calculate_AEP(turb_coords):\n",
        "    return getAEP(turb_rad, turb_coords, power_curve, wind_inst_freq, \n",
        "                  n_wind_instances, cos_dir, sin_dir, wind_sped_stacked, C_t)"
      ],
      "execution_count": null,
      "outputs": []
    },
    {
      "cell_type": "code",
      "metadata": {
        "id": "E13ExIkbXFUj"
      },
      "source": [
        "class TurbGroup:\n",
        "    def __init__(self):\n",
        "        self.turb_coords = np.array(generate_turb_locations())\n",
        "        self.fitness = -1\n",
        "        self.violation_count = 0\n",
        "    \n",
        "    def count_violation(self):\n",
        "        for i,turb1 in enumerate(self.turb_coords):\n",
        "            for turb2 in np.delete(self.turb_coords, i, axis=0):\n",
        "                if  np.linalg.norm(turb1 - turb2) < 8*turb_rad:\n",
        "                    self.violation_count += 1\n",
        "                    \n",
        "        \n",
        "    def calculate_fitness(self):\n",
        "        self.count_violation()\n",
        "        fitness = calculate_AEP(self.turb_coords)\n",
        "        fitness -= fitness*penalty*self.violation_count\n",
        "        self.fitness = fitness\n"
      ],
      "execution_count": null,
      "outputs": []
    },
    {
      "cell_type": "code",
      "metadata": {
        "id": "rJwUIw1NXFUv"
      },
      "source": [
        "# GA parameters\n",
        "POP_SIZE = 100\n",
        "GEN_COUNT = 50\n",
        "TOURNAMENT_SIZE = 10\n",
        "MUT_PROB = 0.05"
      ],
      "execution_count": null,
      "outputs": []
    },
    {
      "cell_type": "code",
      "metadata": {
        "id": "30v26arhXFU5"
      },
      "source": [
        "def ga():\n",
        "\n",
        "    pop = init_pop(POP_SIZE)\n",
        "    #best_in_each_gen = []\n",
        "    \n",
        "    for generation in range(GEN_COUNT):\n",
        "\n",
        "        pop = fitness(pop)\n",
        "        \n",
        "        nextgen_pop = []\n",
        "        for i in range(int(POP_SIZE/2)):\n",
        "            parent1 = selection(pop)\n",
        "            parent2 = selection(pop)\n",
        "            offspring = crossover(parent1, parent2)\n",
        "            nextgen_pop.append(mutation(offspring[0]))\n",
        "            nextgen_pop.append(mutation(offspring[1]))\n",
        "        pop = nextgen_pop\n",
        "        best = sorted(pop, key=lambda x: x.fitness, reverse=True)\n",
        "        print(\"Best fit in Generation no {}: {}\".format(generation, best[0].fitness))\n"
      ],
      "execution_count": null,
      "outputs": []
    },
    {
      "cell_type": "code",
      "metadata": {
        "id": "F7IFBSoJXFVC"
      },
      "source": [
        "def init_pop(population_count):\n",
        "    return [TurbGroup() for _ in range(population_count)]"
      ],
      "execution_count": null,
      "outputs": []
    },
    {
      "cell_type": "code",
      "metadata": {
        "id": "5EYBIaAaXFVK"
      },
      "source": [
        "def fitness(population):\n",
        "    for agent in population:\n",
        "        agent.calculate_fitness()\n",
        "    return population"
      ],
      "execution_count": null,
      "outputs": []
    },
    {
      "cell_type": "code",
      "metadata": {
        "id": "gUhwc8hYXFVV"
      },
      "source": [
        "def selection(population):\n",
        "    \n",
        "    players = random.sample(population, TOURNAMENT_SIZE)\n",
        "    sorted_players = sorted(players, key=lambda x: x.fitness, reverse=True)\n",
        "\n",
        "    return sorted_players[0]"
      ],
      "execution_count": null,
      "outputs": []
    },
    {
      "cell_type": "code",
      "metadata": {
        "id": "Fxuj5KobXFVe"
      },
      "source": [
        "def crossover(p1, p2):\n",
        "    xo_pt = random.randrange(turb_count)\n",
        "    p1.turb_coords[:xo_pt],p2.turb_coords[:xo_pt] = p1.turb_coords[:xo_pt],p2.turb_coords[:xo_pt]\n",
        "    return p1, p2"
      ],
      "execution_count": null,
      "outputs": []
    },
    {
      "cell_type": "code",
      "metadata": {
        "id": "S-7k1na2XFVm"
      },
      "source": [
        "def mutation(agent):\n",
        "    if random.random() < MUT_PROB:\n",
        "        return TurbGroup()\n",
        "    else:\n",
        "        return agent"
      ],
      "execution_count": null,
      "outputs": []
    },
    {
      "cell_type": "code",
      "metadata": {
        "id": "8VY2LTqAXFVu",
        "colab": {
          "base_uri": "https://localhost:8080/",
          "height": 136
        },
        "outputId": "8ecf6631-29db-47e4-adfe-9394dad9b542"
      },
      "source": [
        "ga()"
      ],
      "execution_count": null,
      "outputs": [
        {
          "output_type": "stream",
          "text": [
            "Best fit in Generation no 0: 515.38005569458\n",
            "Best fit in Generation no 1: 515.38005569458\n",
            "Best fit in Generation no 2: 515.38005569458\n",
            "Best fit in Generation no 3: 515.38005569458\n",
            "Best fit in Generation no 4: 515.38005569458\n",
            "Best fit in Generation no 5: 516.0323840332031\n",
            "Best fit in Generation no 6: 516.0323840332031\n"
          ],
          "name": "stdout"
        }
      ]
    },
    {
      "cell_type": "code",
      "metadata": {
        "id": "fGAC11bhSna3"
      },
      "source": [
        ""
      ],
      "execution_count": null,
      "outputs": []
    }
  ]
}