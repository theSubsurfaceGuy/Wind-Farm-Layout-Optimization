{
  "nbformat": 4,
  "nbformat_minor": 0,
  "metadata": {
    "colab": {
      "name": "Genetic Algorithm.ipynb",
      "provenance": [],
      "authorship_tag": "ABX9TyP+Y2xYrpRclGqmNxkKhaZM"
    },
    "kernelspec": {
      "name": "python3",
      "display_name": "Python 3"
    }
  },
  "cells": [
    {
      "cell_type": "code",
      "metadata": {
        "id": "uUms7B4_Q__R",
        "colab": {
          "base_uri": "https://localhost:8080/",
          "height": 105
        },
        "outputId": "793af1d9-4320-4f88-ca47-e04f765cb2b3"
      },
      "source": [
        "pip install ypstruct"
      ],
      "execution_count": null,
      "outputs": [
        {
          "output_type": "stream",
          "text": [
            "Collecting ypstruct\n",
            "  Downloading https://files.pythonhosted.org/packages/d3/6b/600d8aee186c50504d2406fd65d32a737bd7f4eb9a2024b616c4f609fbb6/ypstruct-0.0.1-py3-none-any.whl\n",
            "Installing collected packages: ypstruct\n",
            "Successfully installed ypstruct-0.0.1\n"
          ],
          "name": "stdout"
        }
      ]
    },
    {
      "cell_type": "code",
      "metadata": {
        "id": "s6YcqKrMOpCA",
        "colab": {
          "base_uri": "https://localhost:8080/",
          "height": 1000
        },
        "outputId": "3a980617-2c84-43a1-e3b2-e10cbe9d97a8"
      },
      "source": [
        "import numpy as np\n",
        "import matplotlib.pyplot as plt\n",
        "from ypstruct import structure\n",
        "#Cost Function\n",
        "\n",
        "def sphere(x):\n",
        "  return np.sum(x**2)\n",
        "\n",
        "\n",
        "#Problem definition\n",
        "problem=structure()\n",
        "problem.costfunc=sphere\n",
        "problem.nvar = 5\n",
        "problem.varmin = -10\n",
        "problem.varmax = 10\n",
        "\n",
        "\n",
        "\n",
        "\n",
        "# GA parameters\n",
        "params=structure()\n",
        "params.maxit=100\n",
        "params.beta=1\n",
        "params.npop=50\n",
        "params.pc = 1\n",
        "params.gamma=0.1\n",
        "params.mu=0.01\n",
        "params.sigma=0.1\n",
        "\n",
        "\n",
        "#RUN GA\n",
        "out=run(problem, params)\n",
        "\n",
        "\n",
        "#Results\n",
        "#plt.plot(out.bestcost)\n",
        "plt.semilogy(out.bestcost)\n",
        "plt.xlim(0,params.maxit)\n",
        "plt.xlabel('Iterations')\n",
        "plt.ylabel('Best Cost')\n",
        "plt.title('Genetic Algorithm')\n",
        "plt.grid(True)\n",
        "plt.show()"
      ],
      "execution_count": null,
      "outputs": [
        {
          "output_type": "stream",
          "text": [
            "Iteration 0: Best Cost = 25.694786402272292\n",
            "Iteration 1: Best Cost = 10.48148086606188\n",
            "Iteration 2: Best Cost = 5.505374292906668\n",
            "Iteration 3: Best Cost = 1.5166566025324468\n",
            "Iteration 4: Best Cost = 1.5166566025324468\n",
            "Iteration 5: Best Cost = 1.0532276462102457\n",
            "Iteration 6: Best Cost = 0.22339775940505424\n",
            "Iteration 7: Best Cost = 0.21362358864025238\n",
            "Iteration 8: Best Cost = 0.21223306952846907\n",
            "Iteration 9: Best Cost = 0.14853964114125287\n",
            "Iteration 10: Best Cost = 0.14853964114125287\n",
            "Iteration 11: Best Cost = 0.141401700877726\n",
            "Iteration 12: Best Cost = 0.12823722393883896\n",
            "Iteration 13: Best Cost = 0.12823722393883896\n",
            "Iteration 14: Best Cost = 0.124475425086403\n",
            "Iteration 15: Best Cost = 0.11957095348988443\n",
            "Iteration 16: Best Cost = 0.11666593742499295\n",
            "Iteration 17: Best Cost = 0.11666593742499295\n",
            "Iteration 18: Best Cost = 0.11099674067333107\n",
            "Iteration 19: Best Cost = 0.11099674067333107\n",
            "Iteration 20: Best Cost = 0.11099674067333107\n",
            "Iteration 21: Best Cost = 0.11088265301121192\n",
            "Iteration 22: Best Cost = 0.11068361270395535\n",
            "Iteration 23: Best Cost = 0.11044484772820315\n",
            "Iteration 24: Best Cost = 0.11044484772820315\n",
            "Iteration 25: Best Cost = 0.10993665927011159\n",
            "Iteration 26: Best Cost = 0.10993665927011159\n",
            "Iteration 27: Best Cost = 0.10978709968874051\n",
            "Iteration 28: Best Cost = 0.10967959713506112\n",
            "Iteration 29: Best Cost = 0.1095119880587781\n",
            "Iteration 30: Best Cost = 0.1095119880587781\n",
            "Iteration 31: Best Cost = 0.10915162059371228\n",
            "Iteration 32: Best Cost = 0.10915162059371228\n",
            "Iteration 33: Best Cost = 0.10909894805808362\n",
            "Iteration 34: Best Cost = 0.10903589181054836\n",
            "Iteration 35: Best Cost = 0.10890475468810068\n",
            "Iteration 36: Best Cost = 0.10888287855615145\n",
            "Iteration 37: Best Cost = 0.10887503257113937\n",
            "Iteration 38: Best Cost = 0.10884662186456975\n",
            "Iteration 39: Best Cost = 0.10884662186456975\n",
            "Iteration 40: Best Cost = 0.10883645250681237\n",
            "Iteration 41: Best Cost = 0.10883446835811844\n",
            "Iteration 42: Best Cost = 0.10882871136282007\n",
            "Iteration 43: Best Cost = 0.10877952079614826\n",
            "Iteration 44: Best Cost = 0.10877952079614826\n",
            "Iteration 45: Best Cost = 0.10877952079614826\n",
            "Iteration 46: Best Cost = 0.10877642357838775\n",
            "Iteration 47: Best Cost = 0.108774969077755\n",
            "Iteration 48: Best Cost = 0.108774969077755\n",
            "Iteration 49: Best Cost = 0.108774969077755\n",
            "Iteration 50: Best Cost = 0.10877093396419345\n",
            "Iteration 51: Best Cost = 0.1087674868221131\n",
            "Iteration 52: Best Cost = 0.10876649623462001\n",
            "Iteration 53: Best Cost = 0.10876463656944044\n",
            "Iteration 54: Best Cost = 0.10876147395804653\n",
            "Iteration 55: Best Cost = 0.10876147395804653\n",
            "Iteration 56: Best Cost = 0.10876147395804653\n",
            "Iteration 57: Best Cost = 0.10876088407291364\n",
            "Iteration 58: Best Cost = 0.10876088407291364\n",
            "Iteration 59: Best Cost = 0.10875788467156713\n",
            "Iteration 60: Best Cost = 0.1087531997308806\n",
            "Iteration 61: Best Cost = 0.1087531997308806\n",
            "Iteration 62: Best Cost = 0.1087531997308806\n",
            "Iteration 63: Best Cost = 0.1087531997308806\n",
            "Iteration 64: Best Cost = 0.10875301625086581\n",
            "Iteration 65: Best Cost = 0.10875272653383694\n",
            "Iteration 66: Best Cost = 0.10875258607796369\n",
            "Iteration 67: Best Cost = 0.10875258607796369\n",
            "Iteration 68: Best Cost = 0.10875225336838457\n",
            "Iteration 69: Best Cost = 0.10875224956765853\n",
            "Iteration 70: Best Cost = 0.10875193532424968\n",
            "Iteration 71: Best Cost = 0.10875183672480519\n",
            "Iteration 72: Best Cost = 0.10875159255776387\n",
            "Iteration 73: Best Cost = 0.10875159255776387\n",
            "Iteration 74: Best Cost = 0.10875159255776387\n",
            "Iteration 75: Best Cost = 0.10875133345195549\n",
            "Iteration 76: Best Cost = 0.10875133345195549\n",
            "Iteration 77: Best Cost = 0.10875133345195549\n",
            "Iteration 78: Best Cost = 0.10875126479178991\n",
            "Iteration 79: Best Cost = 0.10875119978733258\n",
            "Iteration 80: Best Cost = 0.10875116565573734\n",
            "Iteration 81: Best Cost = 0.10875113626449935\n",
            "Iteration 82: Best Cost = 0.1087511114023681\n",
            "Iteration 83: Best Cost = 0.1087511114023681\n",
            "Iteration 84: Best Cost = 0.10875111034172891\n",
            "Iteration 85: Best Cost = 0.10875108094419628\n",
            "Iteration 86: Best Cost = 0.10875104777727243\n",
            "Iteration 87: Best Cost = 0.10875102656549648\n",
            "Iteration 88: Best Cost = 0.1087510246480029\n",
            "Iteration 89: Best Cost = 0.10875101391677144\n",
            "Iteration 90: Best Cost = 0.10875100721268725\n",
            "Iteration 91: Best Cost = 0.1087509824815917\n",
            "Iteration 92: Best Cost = 0.1087509824815917\n",
            "Iteration 93: Best Cost = 0.1087509728444023\n",
            "Iteration 94: Best Cost = 0.1087509728444023\n",
            "Iteration 95: Best Cost = 0.10875096332170892\n",
            "Iteration 96: Best Cost = 0.10875095003179475\n",
            "Iteration 97: Best Cost = 0.10875095003179475\n",
            "Iteration 98: Best Cost = 0.10875095003179475\n",
            "Iteration 99: Best Cost = 0.10875094748626267\n"
          ],
          "name": "stdout"
        },
        {
          "output_type": "display_data",
          "data": {
            "image/png": "[encoded data removed]",
            "text/plain": [
              "<Figure size 432x288 with 1 Axes>"
            ]
          },
          "metadata": {
            "tags": [],
            "needs_background": "light"
          }
        }
      ]
    },
    {
      "cell_type": "code",
      "metadata": {
        "id": "bsRnXATzY3OY"
      },
      "source": [
        "from ypstruct import structure\n",
        "import numpy as np\n",
        "def run(problem, params):\n",
        "\n",
        "  #Problem Information\n",
        "  costfunc=problem.costfunc\n",
        "  nvar=problem.nvar\n",
        "  varmin=problem.varmin\n",
        "  varmax=problem.varmax\n",
        "\n",
        "  #Parameters\n",
        "  maxit=params.maxit\n",
        "  npop=params.npop\n",
        "  beta=params.beta\n",
        "  pc=params.pc\n",
        "  nc=pc*npop\n",
        "  nc=int(np.round(pc*npop/2)*2)\n",
        "  gamma=params.gamma\n",
        "  mu=params.mu\n",
        "  sigma=params.sigma\n",
        "\n",
        "  #Empty individual Template\n",
        "  empty_individual=structure()\n",
        "  empty_individual.position=None\n",
        "  empty_individual.cost=None\n",
        "\n",
        "  #Best solution ever found\n",
        "  bestsol=empty_individual.deepcopy()\n",
        "  bestsol.cost = np.inf\n",
        "\n",
        "  # Initilize population\n",
        "  pop=empty_individual.repeat(npop)\n",
        "  for i in range(0,npop):\n",
        "\n",
        "    pop[i].position=np.random.uniform(varmin,varmax,nvar)\n",
        "    pop[i].cost=costfunc(pop[i].position)\n",
        "    if pop[i].cost < bestsol.cost:\n",
        "      bestsol=pop[i].deepcopy()\n",
        "\n",
        "  #Best cost of Interations\n",
        "  bestcost=np.empty(maxit)\n",
        "\n",
        "\n",
        "  #Main Loop\n",
        "  for it in range(maxit):\n",
        "\n",
        "    costs=[x.cost for x in pop]\n",
        "    avg_cost = np.mean(costs)\n",
        "    if avg_cost!=0:\n",
        "      costs = costs/avg_cost\n",
        "    probs = np.exp(-beta*costs)\n",
        "\n",
        "\n",
        "    popc=[]\n",
        "    for _ in range(nc//2):\n",
        "\n",
        "      # Select Parents\n",
        "      #q=np.random.permutation(npop)\n",
        "      #p1=pop[q[0]]\n",
        "      #p2=pop[q[1]]\n",
        "\n",
        "      #Perform roulette wheel selection\n",
        "      p1=pop[roulette_wheel_selection(probs)]\n",
        "      p2=pop[roulette_wheel_selection(probs)]\n",
        "\n",
        "\n",
        "      #Perform crossover\n",
        "      c1,c2=crossover(p1,p2)\n",
        "\n",
        "      #Perform Mutation\n",
        "      c1=mutate(c1,mu,sigma)\n",
        "      c2=mutate(c2,mu,sigma)\n",
        "\n",
        "      # Apply Bounds\n",
        "      apply_bounds(c1, varmin, varmax)\n",
        "      apply_bounds(c2, varmin, varmax)\n",
        "      \n",
        "      #Evalate First offspring\n",
        "      c1.cost=costfunc(c1.position)\n",
        "      if c1.cost < bestsol.cost:\n",
        "        bestsol=c1.deepcopy()\n",
        "\n",
        "      #Evalate Second offspring\n",
        "      c2.cost=costfunc(c2.position)\n",
        "      if c2.cost < bestsol.cost:\n",
        "        bestsol=c2.deepcopy()\n",
        "\n",
        "      #Add offsprings to population\n",
        "      popc.append(c1)\n",
        "      popc.append(c2)\n",
        "\n",
        "    #Merge, Sort, Select\n",
        "    pop = pop + popc\n",
        "    pop = sorted(pop,key=lambda x:x.cost)\n",
        "    pop = pop[0:npop]\n",
        "\n",
        "    #Store Best Cost\n",
        "    bestcost[it] = bestsol.cost\n",
        "\n",
        "    #Show iteration Information\n",
        "    print(\"Iteration {}: Best Cost = {}\".format(it, bestcost[it]))\n",
        "\n",
        "  #Output\n",
        "  out=structure()\n",
        "  out.pop=pop\n",
        "  out.bestsol=bestsol\n",
        "  out.bestcost=bestcost\n",
        "  return out\n",
        "\n",
        "def crossover(p1,p2, gamma=0.1):\n",
        "  c1=p1.deepcopy()\n",
        "  c2=p2.deepcopy()\n",
        "  alpha=np.random.uniform(-gamma,1+gamma,*c1.position.shape)\n",
        "  c1.position=alpha*p1.position + (1-alpha)*p2.position\n",
        "  c2.position=alpha*p2.position + (1-alpha)*p1.position\n",
        "  return c1, c2\n",
        "\n",
        "def mutate(x, mu, sigma):\n",
        "  y=x.deepcopy()\n",
        "  flag=np.random.rand(*x.position.shape) <=mu\n",
        "  ind=np.argwhere(flag)\n",
        "  y.position[ind]+= sigma*np.random.rand(*ind.shape)\n",
        "  return y\n",
        "\n",
        "def apply_bounds(x,varmin,varmax):\n",
        "  x.position = np.maximum(x.position, varmin)\n",
        "  x.position = np.minimum(x.position, varmax)\n",
        "\n",
        "\n",
        "def roulette_wheel_selection(p):\n",
        "  c=np.cumsum(p)\n",
        "  r=sum(p)*np.random.rand()\n",
        "  ind = np.argwhere(r<=c)\n",
        "  return ind[0][0]\n",
        "\n",
        "\n"
      ],
      "execution_count": null,
      "outputs": []
    },
    {
      "cell_type": "code",
      "metadata": {
        "id": "QZZ5mCLE8EnB",
        "colab": {
          "base_uri": "https://localhost:8080/",
          "height": 34
        },
        "outputId": "a0d16719-121b-4ca5-f267-02b2494f348b"
      },
      "source": [
        "out.pop[0]"
      ],
      "execution_count": null,
      "outputs": [
        {
          "output_type": "execute_result",
          "data": {
            "text/plain": [
              "structure({'position': array([ 0.00416473,  0.26220287,  0.00045479, -0.00045987,  0.19995709]), 'cost': 0.10875094748626267})"
            ]
          },
          "metadata": {
            "tags": []
          },
          "execution_count": 147
        }
      ]
    },
    {
      "cell_type": "code",
      "metadata": {
        "id": "X2cWs4IcSqeL",
        "colab": {
          "base_uri": "https://localhost:8080/",
          "height": 34
        },
        "outputId": "df02e89b-582b-4c7d-f103-b6c0d4a9d936"
      },
      "source": [
        "out.pop[1]"
      ],
      "execution_count": null,
      "outputs": [
        {
          "output_type": "execute_result",
          "data": {
            "text/plain": [
              "structure({'position': array([ 0.00416525,  0.26220287,  0.00045484, -0.00045944,  0.19995709]), 'cost': 0.10875095003179475})"
            ]
          },
          "metadata": {
            "tags": []
          },
          "execution_count": 149
        }
      ]
    }
  ]
}