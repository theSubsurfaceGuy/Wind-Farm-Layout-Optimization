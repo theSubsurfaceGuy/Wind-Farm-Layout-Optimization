{
  "nbformat": 4,
  "nbformat_minor": 0,
  "metadata": {
    "kernelspec": {
      "display_name": "Python 3",
      "language": "python",
      "name": "python3"
    },
    "language_info": {
      "codemirror_mode": {
        "name": "ipython",
        "version": 3
      },
      "file_extension": ".py",
      "mimetype": "text/x-python",
      "name": "python",
      "nbconvert_exporter": "python",
      "pygments_lexer": "ipython3",
      "version": "3.8.5"
    },
    "colab": {
      "name": "windmillPSO (1).ipynb",
      "provenance": [],
      "collapsed_sections": []
    }
  },
  "cells": [
    {
      "cell_type": "code",
      "metadata": {
        "id": "fMyINPfAmkil"
      },
      "source": [
        "import random\n",
        "import numpy as np"
      ],
      "execution_count": null,
      "outputs": []
    },
    {
      "cell_type": "code",
      "metadata": {
        "id": "AG7qanzumki6"
      },
      "source": [
        "from Farm_Evaluator_Vec import getTurbLoc, loadPowerCurve, binWindResourceData, preProcessing, getAEP, checkConstraints"
      ],
      "execution_count": null,
      "outputs": []
    },
    {
      "cell_type": "code",
      "metadata": {
        "id": "gHw01aDBmkjP"
      },
      "source": [
        "#turb_coords   =  getTurbLoc(r'Data/turbine_loc_test.csv')\n",
        "power_curve   =  loadPowerCurve('power_curve.csv')\n",
        "wind_inst_freq =  binWindResourceData(r'wind_data_2017.csv')\n",
        "turb_rad = 50"
      ],
      "execution_count": null,
      "outputs": []
    },
    {
      "cell_type": "code",
      "metadata": {
        "id": "KcKE1Kpumkjl"
      },
      "source": [
        "n_wind_instances, cos_dir, sin_dir, wind_sped_stacked, C_t = preProcessing(power_curve)"
      ],
      "execution_count": null,
      "outputs": []
    },
    {
      "cell_type": "code",
      "metadata": {
        "id": "tXkhkgp4mkj1"
      },
      "source": [
        "# Problem parameter\n",
        "min_lim = 50\n",
        "max_lim = 3950\n",
        "turb_count = 50\n",
        "penalty = 2"
      ],
      "execution_count": null,
      "outputs": []
    },
    {
      "cell_type": "code",
      "metadata": {
        "id": "eie8OQ-bmkkI"
      },
      "source": [
        "def gen_coord():\n",
        "    x = round(random.uniform(min_lim, max_lim),2)\n",
        "    y = round(random.uniform(min_lim, max_lim),2)\n",
        "    return x,y"
      ],
      "execution_count": null,
      "outputs": []
    },
    {
      "cell_type": "code",
      "metadata": {
        "id": "UnoEx5zTmkka"
      },
      "source": [
        "def check_violation(turb1, turb2):\n",
        "    return np.linalg.norm(turb1 - turb2) > 8*turb_rad"
      ],
      "execution_count": null,
      "outputs": []
    },
    {
      "cell_type": "code",
      "metadata": {
        "id": "gFpMAV9lmkko"
      },
      "source": [
        "def generate_turb_locations():\n",
        "    arr = [gen_coord()]\n",
        "    for i in range(turb_count-1):\n",
        "        while True:\n",
        "            new_cord = gen_coord()\n",
        "\n",
        "            if all([check_violation(np.array(cord), np.array(new_cord)) for cord in arr]):\n",
        "                arr.append(new_cord)\n",
        "                break\n",
        "    return arr"
      ],
      "execution_count": null,
      "outputs": []
    },
    {
      "cell_type": "code",
      "metadata": {
        "id": "cSX0ch9XmklA"
      },
      "source": [
        "def calculate_AEP(turb_coords):\n",
        "    return getAEP(turb_rad, turb_coords, power_curve, wind_inst_freq, \n",
        "                  n_wind_instances, cos_dir, sin_dir, wind_sped_stacked, C_t)"
      ],
      "execution_count": null,
      "outputs": []
    },
    {
      "cell_type": "code",
      "metadata": {
        "id": "deWx3tjsmklM"
      },
      "source": [
        "# Cost functon for the problem\n",
        "def cost_function(loc_flattened):\n",
        "    turb_coords = loc_flattened.reshape(50,2)\n",
        "    violation_count = count_violation(turb_coords)\n",
        "    fitness = calculate_AEP(turb_coords)\n",
        "    fitness -= fitness*penalty*violation_count\n",
        "    return -fitness"
      ],
      "execution_count": null,
      "outputs": []
    },
    {
      "cell_type": "code",
      "metadata": {
        "id": "zKK94Zvtmkla"
      },
      "source": [
        "def count_violation(turb_coords):\n",
        "    violation_count = 0\n",
        "    for i,turb1 in enumerate(turb_coords):\n",
        "        for turb2 in np.delete(turb_coords, i, axis=0):\n",
        "            if  np.linalg.norm(turb1 - turb2) < 8*turb_rad:\n",
        "                violation_count += 1\n",
        "    return violation_count"
      ],
      "execution_count": null,
      "outputs": []
    },
    {
      "cell_type": "code",
      "metadata": {
        "id": "grRja1FWmklo"
      },
      "source": [
        "class Particle:\n",
        "    def __init__(self,w=0.5,c1=1,c2=2):\n",
        "        self.position_i = np.array(generate_turb_locations()).flatten()          # particle position\n",
        "        self.velocity_i = np.random.uniform(low=-1,high=1, size=(50*2))          # particle velocity\n",
        "        self.pos_best_i = None         # best position individual\n",
        "        self.err_best_i =-1          # best error individual\n",
        "        self.err_i = -1               # error individual\n",
        "        self.w = w\n",
        "        self.c1 = c1\n",
        "        self.c2 = c2\n",
        "    # evaluate current fitness\n",
        "    def evaluate(self,costFunc):\n",
        "        self.err_i=costFunc(self.position_i)\n",
        "\n",
        "        # check to see if the current position is an individual best\n",
        "        if self.err_i < self.err_best_i or self.err_best_i==-1:\n",
        "            self.pos_best_i=self.position_i\n",
        "            self.err_best_i=self.err_i\n",
        "\n",
        "    # update new particle velocity\n",
        "    def update_velocity(self,pos_best_g):     \n",
        "\n",
        "        for i in range(0,num_dimensions):\n",
        "            r1=np.random.random()\n",
        "            r2=np.random.random()\n",
        "\n",
        "            vel_cognitive=self.c1*r1*(self.pos_best_i[i]-self.position_i[i])\n",
        "            vel_social=self.c2*r2*(pos_best_g[i]-self.position_i[i])\n",
        "            self.velocity_i[i]=self.w*self.velocity_i[i]+vel_cognitive+vel_social\n",
        "\n",
        "    # update the particle position based off new velocity updates\n",
        "    def update_position(self,bounds):\n",
        "        for i in range(0,num_dimensions):\n",
        "            self.position_i[i]=self.position_i[i]+self.velocity_i[i]\n",
        "\n",
        "            # adjust maximum position if necessary\n",
        "            if self.position_i[i]>bounds[1]:\n",
        "                self.position_i[i]=bounds[1]\n",
        "\n",
        "            # adjust minimum position if neseccary\n",
        "            if self.position_i[i] < bounds[0]:\n",
        "                self.position_i[i]=bounds[0]"
      ],
      "execution_count": null,
      "outputs": []
    },
    {
      "cell_type": "code",
      "metadata": {
        "id": "o4LoUB3smkl1"
      },
      "source": [
        "class PSO():\n",
        "    def __init__(self,costFunc,bounds,params):\n",
        " \n",
        "        self.err_best_g = -1                   # best error for group\n",
        "        self.pos_best_g = None                 # best position for group\n",
        "        self.bounds = bounds\n",
        "        self.maxiter = params['maxiter']\n",
        "        self.costFunc = costFunc\n",
        "\n",
        "        # establish the swarm\n",
        "        self.swarm=[]\n",
        "        for i in range(params['num_particles']):\n",
        "            self.swarm.append(Particle(w=params['w'],c1=params['c1'],c2=params['c2']))\n",
        "\n",
        "    def run(self):\n",
        "        # begin optimization loop\n",
        "        self.pos_best_g_iterations = []\n",
        "        i=0\n",
        "        while i < self.maxiter:\n",
        "            #print i,err_best_g\n",
        "            # cycle through particles in swarm and evaluate fitness\n",
        "            for swarm in self.swarm:\n",
        "                swarm.evaluate(self.costFunc)\n",
        "\n",
        "                # determine if current particle is the best (globally)\n",
        "                if swarm.err_i < self.err_best_g or self.err_best_g == -1:\n",
        "                    self.pos_best_g = swarm.position_i\n",
        "                    self.err_best_g = float(swarm.err_i)\n",
        "\n",
        "            # cycle through swarm and update velocities and position\n",
        "            for swarm in self.swarm:\n",
        "                swarm.update_velocity(self.pos_best_g)\n",
        "                swarm.update_position(self.bounds)\n",
        "            i+=1\n",
        "            self.pos_best_g_iterations.append(self.pos_best_g.reshape(50,2))\n",
        "            print(\"Best fit in iteration no {}: {}\".format(i, -self.err_best_g))\n",
        "        \n",
        "        # print final results\n",
        "        print('FINAL:', -self.err_best_g)\n",
        "        "
      ],
      "execution_count": null,
      "outputs": []
    },
    {
      "cell_type": "code",
      "metadata": {
        "id": "gMfgCfiFmkmA"
      },
      "source": [
        "# Change the values here to tune the model\n",
        "PSO_parameters = {'w': 0.5,# constant inertia weight (how much to weigh the previous velocity)\n",
        "                  'c1': 1,# cognative constant\n",
        "                  'c2': 2,# social constant\n",
        "                  'num_particles': 10000,\n",
        "                  'maxiter': 100}"
      ],
      "execution_count": null,
      "outputs": []
    },
    {
      "cell_type": "code",
      "metadata": {
        "id": "fjOe1N20mkmO"
      },
      "source": [
        "global num_dimensions\n",
        "num_dimensions= turb_count*2\n",
        "bounds=[50,3950] \n",
        "model = PSO(cost_function,bounds,params = PSO_parameters)\n",
        "model.run()"
      ],
      "execution_count": null,
      "outputs": []
    },
    {
      "cell_type": "code",
      "metadata": {
        "id": "k9DxjiIwmkmd",
        "outputId": "0803b27b-f9fe-45bd-fc31-70894e92ae1a"
      },
      "source": [
        "checkConstraints(model.pos_best_g_iterations[-1],100)"
      ],
      "execution_count": null,
      "outputs": [
        {
          "output_type": "stream",
          "text": [
            "Both perimeter and proximity constraints are satisfied !!\n",
            "\n"
          ],
          "name": "stdout"
        },
        {
          "output_type": "execute_result",
          "data": {
            "text/plain": [
              "()"
            ]
          },
          "metadata": {
            "tags": []
          },
          "execution_count": 63
        }
      ]
    },
    {
      "cell_type": "code",
      "metadata": {
        "id": "ywG5bPwdmkmu"
      },
      "source": [
        ""
      ],
      "execution_count": null,
      "outputs": []
    },
    {
      "cell_type": "code",
      "metadata": {
        "id": "PUKlefmymkm4"
      },
      "source": [
        "import matplotlib.pyplot as plt\n",
        "%matplotlib inline"
      ],
      "execution_count": null,
      "outputs": []
    },
    {
      "cell_type": "code",
      "metadata": {
        "id": "9LqfaOjtmknC"
      },
      "source": [
        "data = [ -cost_function(pos) for pos in model.pos_best_g_iterations]"
      ],
      "execution_count": null,
      "outputs": []
    },
    {
      "cell_type": "code",
      "metadata": {
        "scrolled": true,
        "id": "EMAkFm5VmknI",
        "outputId": "96a25685-9655-4a56-ef34-770cfc6284d9"
      },
      "source": [
        "plt.plot(data)"
      ],
      "execution_count": null,
      "outputs": [
        {
          "output_type": "execute_result",
          "data": {
            "text/plain": [
              "[<matplotlib.lines.Line2D at 0x2de145d63a0>]"
            ]
          },
          "metadata": {
            "tags": []
          },
          "execution_count": 71
        },
        {
          "output_type": "display_data",
          "data": {
            "image/png": "[encoded data removed]",
            "text/plain": [
              "<Figure size 432x288 with 1 Axes>"
            ]
          },
          "metadata": {
            "tags": [],
            "needs_background": "light"
          }
        }
      ]
    },
    {
      "cell_type": "code",
      "metadata": {
        "id": "4RfG715kmknT",
        "outputId": "1352d39e-e9c1-406c-943e-39408d4f60f8"
      },
      "source": [
        "turb_coords = model.pos_best_g_iterations[-1]\n",
        "plt.scatter(turb_coords[:,0],turb_coords[:,1], c='black')"
      ],
      "execution_count": null,
      "outputs": [
        {
          "output_type": "execute_result",
          "data": {
            "text/plain": [
              "<matplotlib.collections.PathCollection at 0x2de148bef70>"
            ]
          },
          "metadata": {
            "tags": []
          },
          "execution_count": 66
        },
        {
          "output_type": "display_data",
          "data": {
            "image/png": "[encoded data removed]",
            "text/plain": [
              "<Figure size 432x288 with 1 Axes>"
            ]
          },
          "metadata": {
            "tags": [],
            "needs_background": "light"
          }
        }
      ]
    }
  ]
}