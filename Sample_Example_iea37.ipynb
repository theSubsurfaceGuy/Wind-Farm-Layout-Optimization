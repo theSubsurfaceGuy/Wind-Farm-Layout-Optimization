{
  "nbformat": 4,
  "nbformat_minor": 0,
  "metadata": {
    "colab": {
      "name": "Sample Example_iea37.ipynb",
      "provenance": [],
      "authorship_tag": "ABX9TyOZbNsq4mhMx7YHX76SZA1O"
    },
    "kernelspec": {
      "name": "python3",
      "display_name": "Python 3"
    }
  },
  "cells": [
    {
      "cell_type": "code",
      "metadata": {
        "id": "2mYX-l-8s0Xk"
      },
      "source": [
        "import numpy as np\n",
        "from iea37_reader_Shell import read_iea37_windturbine\n",
        "from py_wake_wind_turbines_Shell import OneTypeWindTurbines"
      ],
      "execution_count": null,
      "outputs": []
    },
    {
      "cell_type": "code",
      "metadata": {
        "id": "jadYRB8UrrSa"
      },
      "source": [
        "#from py_wake.examples.data.iea37 import iea37_path\n",
        "from py_wake.examples.data.iea37.iea37_aepcalc import getTurbLocYAML,\\\n",
        "    getWindRoseYAML, getTurbAtrbtYAML, calcAEP\n",
        "from py_wake.site._site import UniformSite\n",
        "\n",
        "\n",
        "class IEA37_WindTurbines(OneTypeWindTurbines):\n",
        "    def __init__(self, yaml_filename=iea37_path + 'iea37-335mw.yaml'):\n",
        "        name, hub_height, diameter, ct_func, power_func, dct, dpower = read_iea37_windturbine(yaml_filename)\n",
        "        super().__init__(name, diameter, hub_height, ct_func, power_func, power_unit='W')\n",
        "        self.set_gradient_funcs(dpower, dct)\n",
        "\n",
        "\n",
        "class IEA37Site(UniformSite):\n",
        "    def __init__(self, n_wt, ti=.075):\n",
        "        assert n_wt in [9, 16, 36, 64]\n",
        "\n",
        "        from py_wake.examples.data.iea37.iea37_reader import \\\n",
        "            read_iea37_windfarm, read_iea37_windrose\n",
        "\n",
        "        _, wsp, freq = read_iea37_windrose(iea37_path + \"iea37-windrose.yaml\")\n",
        "        self.initial_position = np.array(\n",
        "            read_iea37_windfarm(iea37_path +\n",
        "                                'iea37-ex%d.yaml' % n_wt)[:2]).T\n",
        "\n",
        "        UniformSite.__init__(self, freq, ti, ws=wsp)\n",
        "\n",
        "\n",
        "class IEA37AEPCalc():\n",
        "    \"\"\"Run the AEP calculator provided by IEA Task 37\"\"\"\n",
        "\n",
        "    def __init__(self, n_wt):\n",
        "        assert n_wt in [9, 16, 36, 64]\n",
        "        self.n_wt = n_wt\n",
        "\n",
        "    def get_aep(self):\n",
        "        turb_coords, _, _ = \\\n",
        "            getTurbLocYAML(iea37_path + 'iea37-ex%d.yaml' % self.n_wt)\n",
        "        wind_dir, wind_freq, wind_speed = \\\n",
        "            getWindRoseYAML(iea37_path + 'iea37-windrose.yaml')\n",
        "        turb_ci, turb_co, rated_ws, rated_pwr, turb_diam = \\\n",
        "            getTurbAtrbtYAML(iea37_path + 'iea37-335mw.yaml')\n",
        "        AEP = calcAEP(turb_coords, wind_freq, wind_speed, wind_dir,\n",
        "                      turb_diam, turb_ci, turb_co, rated_ws, rated_pwr)\n",
        "        return AEP\n",
        "\n",
        "\n",
        "def main():\n",
        "    wt = IEA37_WindTurbines()\n",
        "    print(wt.diameter(0))\n",
        "    print(wt.hub_height(0))\n",
        "\n",
        "    site = IEA37Site(16)\n",
        "    x, y = site.initial_position.T\n",
        "    dw, cw, dh, dw_order = site.wt2wt_distances(x, y, [70], np.array([[0]]))\n",
        "    print(dw.shape)\n",
        "    lw = site.local_wind(x, y)\n",
        "    print(lw.WS_ilk.shape)\n",
        "\n",
        "\n",
        "if __name__ == '__main__':\n",
        "    main()\n"
      ],
      "execution_count": null,
      "outputs": []
    }
  ]
}