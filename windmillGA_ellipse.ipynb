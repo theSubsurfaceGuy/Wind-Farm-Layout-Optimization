{
  "nbformat": 4,
  "nbformat_minor": 0,
  "metadata": {
    "colab": {
      "name": "windmillGA_ellipse.ipynb",
      "provenance": [],
      "collapsed_sections": []
    },
    "kernelspec": {
      "display_name": "Python 3",
      "language": "python",
      "name": "python3"
    },
    "language_info": {
      "codemirror_mode": {
        "name": "ipython",
        "version": 3
      },
      "file_extension": ".py",
      "mimetype": "text/x-python",
      "name": "python",
      "nbconvert_exporter": "python",
      "pygments_lexer": "ipython3",
      "version": "3.8.5"
    }
  },
  "cells": [
    {
      "cell_type": "code",
      "metadata": {
        "id": "irr-pF6ke6w5"
      },
      "source": [
        "import random\n",
        "import numpy as np\n",
        "import pandas as pd\n",
        "import matplotlib.pyplot as plt"
      ],
      "execution_count": null,
      "outputs": []
    },
    {
      "cell_type": "code",
      "metadata": {
        "id": "Nqi35_Zje6xB"
      },
      "source": [
        "from Farm_Evaluator import getTurbLoc, loadPowerCurve, binWindResourceData, preProcessing, getAEP, checkConstraints"
      ],
      "execution_count": null,
      "outputs": []
    },
    {
      "cell_type": "code",
      "metadata": {
        "id": "hbKG8Kjce6xG"
      },
      "source": [
        "power_curve   =  loadPowerCurve('power_curve.csv')\n",
        "turb_rad = 50"
      ],
      "execution_count": null,
      "outputs": []
    },
    {
      "cell_type": "code",
      "metadata": {
        "id": "AgbcuDMce6xR"
      },
      "source": [
        "n_wind_instances, cos_dir, sin_dir, wind_sped_stacked, C_t = preProcessing(power_curve)"
      ],
      "execution_count": null,
      "outputs": []
    },
    {
      "cell_type": "code",
      "metadata": {
        "id": "J-7NiToZLEFQ"
      },
      "source": [
        "# Years on which the data is available\n",
        "year_list = ['2007','2008','2009','2013','2014','2015','2017']\n",
        "\n",
        "wind_data_list = []\n",
        "for year in year_list:\n",
        "    wind_data_list.append(pd.read_csv(\"wind_data_{}.csv\".format(year)))"
      ],
      "execution_count": null,
      "outputs": []
    },
    {
      "cell_type": "code",
      "metadata": {
        "id": "TV4B642Be6xW"
      },
      "source": [
        "# Problem parameter\n",
        "min_lim = 50\n",
        "max_lim = 3950\n",
        "turb_count = 50\n",
        "penalty = 0.05"
      ],
      "execution_count": null,
      "outputs": []
    },
    {
      "cell_type": "code",
      "metadata": {
        "id": "duTpEDSSe6xa"
      },
      "source": [
        "def gen_coord():\n",
        "    x = round(random.uniform(min_lim, max_lim),2)\n",
        "    y = round(random.uniform(min_lim, max_lim),2)\n",
        "    return x,y"
      ],
      "execution_count": null,
      "outputs": []
    },
    {
      "cell_type": "code",
      "metadata": {
        "id": "lfxijvD_e6xe"
      },
      "source": [
        "def check_violation_old(turb1, turb2):\n",
        "    return np.linalg.norm(turb1 - turb2) > 8*turb_rad"
      ],
      "execution_count": null,
      "outputs": []
    },
    {
      "cell_type": "code",
      "metadata": {
        "id": "IR7rqFObLEFo"
      },
      "source": [
        "from shapely import affinity\n",
        "from shapely.geometry.point import Point\n",
        "\n",
        "def create_ellipse(center, lengths, angle):\n",
        "    circ = Point(center).buffer(1)\n",
        "    ell = affinity.scale(circ, int(lengths[0]), int(lengths[1]))\n",
        "    ellr = affinity.rotate(ell, angle)\n",
        "    return ellr\n",
        "\n",
        "major = 225\n",
        "minor = 200\n",
        "angle = 85\n",
        "\n",
        "def check_violation(turb1, turb2):\n",
        "    '''\n",
        "    Return True if intersection is empty\n",
        "    '''\n",
        "    ellipse1 = create_ellipse(turb1, (major,minor), angle)\n",
        "    ellipse2 = create_ellipse(turb2, (major,minor), angle)\n",
        "    intersect = ellipse1.intersection(ellipse2)\n",
        "    return intersect.is_empty"
      ],
      "execution_count": null,
      "outputs": []
    },
    {
      "cell_type": "code",
      "metadata": {
        "id": "Gx0fTm2se6xm"
      },
      "source": [
        "def generate_turb_locations(count):\n",
        "    arr = [gen_coord()]\n",
        "    for i in range(count-1):\n",
        "        while True:\n",
        "            new_cord = gen_coord()\n",
        "\n",
        "            if all([check_violation(np.array(cord), np.array(new_cord)) for cord in arr]):\n",
        "                arr.append(new_cord)\n",
        "                break\n",
        "    return arr"
      ],
      "execution_count": null,
      "outputs": []
    },
    {
      "cell_type": "code",
      "metadata": {
        "id": "jOFAC4fUe6xq"
      },
      "source": [
        "def calculate_AEP(turb_coords):\n",
        "    aep = []\n",
        "    for wind_data in wind_data_list:\n",
        "        wind_inst_freq =  binWindResourceData(wind_data)\n",
        "        aep.append(getAEP(turb_rad, turb_coords, power_curve, wind_inst_freq, \n",
        "                  n_wind_instances, cos_dir, sin_dir, wind_sped_stacked, C_t))\n",
        "    return sum(aep)/len(aep)"
      ],
      "execution_count": null,
      "outputs": []
    },
    {
      "cell_type": "code",
      "metadata": {
        "id": "g_-OVvUke6xv"
      },
      "source": [
        "class TurbGroup:\n",
        "    def __init__(self):\n",
        "        self.turb_coords = np.array(generate_turb_locations(turb_count))\n",
        "        self.fitness = -1\n",
        "        self.violation_count = 0\n",
        "    \n",
        "    def count_violation(self):\n",
        "        for i,turb1 in enumerate(self.turb_coords):\n",
        "            for turb2 in np.delete(self.turb_coords, i, axis=0):\n",
        "                if  np.linalg.norm(turb1 - turb2) < 8*turb_rad:\n",
        "                    self.violation_count += 1\n",
        "                    \n",
        "        \n",
        "    def calculate_fitness(self):\n",
        "        self.count_violation()\n",
        "        fitness = calculate_AEP(self.turb_coords)\n",
        "        fitness -= fitness*penalty*self.violation_count\n",
        "        self.fitness = fitness\n"
      ],
      "execution_count": null,
      "outputs": []
    },
    {
      "cell_type": "code",
      "metadata": {
        "id": "BL_AS9yve6x3"
      },
      "source": [
        "def ga():\n",
        "\n",
        "    pop = init_pop(POP_SIZE)\n",
        "    pop = fitness(pop)\n",
        "    \n",
        "    for generation in range(GEN_COUNT):            \n",
        "        nextgen_pop = []\n",
        "        for i in range(int(POP_SIZE/2)):\n",
        "            parent1 = selection(pop)\n",
        "            parent2 = selection(pop)\n",
        "            offspring = crossover(parent1, parent2)\n",
        "            nextgen_pop.append(mutation(offspring[0]))\n",
        "            nextgen_pop.append(mutation(offspring[1]))\n",
        "        pop = fitness(nextgen_pop)\n",
        "        best = sorted(pop, key=lambda x: x.fitness, reverse=True)\n",
        "        print(\"Best fit in Generation no {}: {}\".format(generation, best[0].fitness))\n",
        "    return best[0]\n"
      ],
      "execution_count": null,
      "outputs": []
    },
    {
      "cell_type": "code",
      "metadata": {
        "id": "muIMmiX2e6x8"
      },
      "source": [
        "def init_pop(population_count):\n",
        "    coord_list = []\n",
        "    for i in range(population_count):\n",
        "        print(\"Generating solution no. {}\".format(i+1))\n",
        "        coord_list.append(TurbGroup())\n",
        "    return coord_list"
      ],
      "execution_count": null,
      "outputs": []
    },
    {
      "cell_type": "code",
      "metadata": {
        "id": "sAZa6Gzxe6yA"
      },
      "source": [
        "def fitness(population):\n",
        "    for agent in population:\n",
        "        agent.calculate_fitness()\n",
        "    return population"
      ],
      "execution_count": null,
      "outputs": []
    },
    {
      "cell_type": "code",
      "metadata": {
        "id": "GLQSh4qke6yE"
      },
      "source": [
        "def selection(population):\n",
        "    players = random.sample(population, TOURNAMENT_SIZE)\n",
        "    sorted_players = sorted(players, key=lambda x: x.fitness, reverse=True)\n",
        "\n",
        "    return sorted_players[0]"
      ],
      "execution_count": null,
      "outputs": []
    },
    {
      "cell_type": "code",
      "metadata": {
        "id": "VRabuj7Fe6yJ"
      },
      "source": [
        "def crossover(p1, p2):\n",
        "    if random.random() < XO_PROB:\n",
        "        xo_pt = random.randrange(turb_count)\n",
        "        p1.turb_coords[:xo_pt],p2.turb_coords[:xo_pt] = p1.turb_coords[:xo_pt],p2.turb_coords[:xo_pt]\n",
        "\n",
        "    return p1, p2"
      ],
      "execution_count": null,
      "outputs": []
    },
    {
      "cell_type": "code",
      "metadata": {
        "id": "WAYZeVo7e6yN"
      },
      "source": [
        "def mutation(agent):\n",
        "    if random.random() < MUT_PROB:\n",
        "        return TurbGroup()\n",
        "    else:\n",
        "        return agent"
      ],
      "execution_count": null,
      "outputs": []
    },
    {
      "cell_type": "code",
      "metadata": {
        "id": "-KkPSxmte6xz"
      },
      "source": [
        "# GA parameters\n",
        "POP_SIZE = 100\n",
        "GEN_COUNT = 100\n",
        "TOURNAMENT_SIZE = 5\n",
        "MUT_PROB = 0.15\n",
        "XO_PROB = 0.75"
      ],
      "execution_count": null,
      "outputs": []
    },
    {
      "cell_type": "code",
      "metadata": {
        "id": "m3zouZhJe6yQ",
        "colab": {
          "base_uri": "https://localhost:8080/",
          "height": 1000
        },
        "outputId": "7f91bfc5-25f3-4cd4-cb1f-87c2cc671e49"
      },
      "source": [
        "# best_fit is an instance of the class TurbGroup\n",
        "# you can get the location using the attribute turb_coords\n",
        "# eg: best_fit.turb_coords\n",
        "best_fit = ga()"
      ],
      "execution_count": null,
      "outputs": [
        {
          "output_type": "stream",
          "text": [
            "Generating solution no. 1\n",
            "Generating solution no. 2\n",
            "Generating solution no. 3\n",
            "Generating solution no. 4\n",
            "Generating solution no. 5\n",
            "Generating solution no. 6\n",
            "Generating solution no. 7\n",
            "Generating solution no. 8\n",
            "Generating solution no. 9\n",
            "Generating solution no. 10\n",
            "Generating solution no. 11\n",
            "Generating solution no. 12\n",
            "Generating solution no. 13\n",
            "Generating solution no. 14\n",
            "Generating solution no. 15\n",
            "Generating solution no. 16\n",
            "Generating solution no. 17\n",
            "Generating solution no. 18\n",
            "Generating solution no. 19\n",
            "Generating solution no. 20\n",
            "Generating solution no. 21\n",
            "Generating solution no. 22\n",
            "Generating solution no. 23\n",
            "Generating solution no. 24\n",
            "Generating solution no. 25\n",
            "Generating solution no. 26\n",
            "Generating solution no. 27\n",
            "Generating solution no. 28\n",
            "Generating solution no. 29\n",
            "Generating solution no. 30\n",
            "Generating solution no. 31\n",
            "Generating solution no. 32\n",
            "Generating solution no. 33\n",
            "Generating solution no. 34\n",
            "Generating solution no. 35\n",
            "Generating solution no. 36\n",
            "Generating solution no. 37\n",
            "Generating solution no. 38\n",
            "Generating solution no. 39\n",
            "Generating solution no. 40\n",
            "Generating solution no. 41\n",
            "Generating solution no. 42\n",
            "Generating solution no. 43\n",
            "Generating solution no. 44\n",
            "Generating solution no. 45\n",
            "Generating solution no. 46\n",
            "Generating solution no. 47\n",
            "Generating solution no. 48\n",
            "Generating solution no. 49\n",
            "Generating solution no. 50\n",
            "Generating solution no. 51\n",
            "Generating solution no. 52\n",
            "Generating solution no. 53\n",
            "Generating solution no. 54\n",
            "Generating solution no. 55\n",
            "Generating solution no. 56\n",
            "Generating solution no. 57\n",
            "Generating solution no. 58\n",
            "Generating solution no. 59\n",
            "Generating solution no. 60\n",
            "Generating solution no. 61\n",
            "Generating solution no. 62\n",
            "Generating solution no. 63\n",
            "Generating solution no. 64\n",
            "Generating solution no. 65\n",
            "Generating solution no. 66\n",
            "Generating solution no. 67\n",
            "Generating solution no. 68\n",
            "Generating solution no. 69\n",
            "Generating solution no. 70\n",
            "Generating solution no. 71\n",
            "Generating solution no. 72\n",
            "Generating solution no. 73\n",
            "Generating solution no. 74\n",
            "Generating solution no. 75\n",
            "Generating solution no. 76\n",
            "Generating solution no. 77\n",
            "Generating solution no. 78\n",
            "Generating solution no. 79\n",
            "Generating solution no. 80\n",
            "Generating solution no. 81\n",
            "Generating solution no. 82\n",
            "Generating solution no. 83\n",
            "Generating solution no. 84\n",
            "Generating solution no. 85\n",
            "Generating solution no. 86\n",
            "Generating solution no. 87\n",
            "Generating solution no. 88\n",
            "Generating solution no. 89\n",
            "Generating solution no. 90\n",
            "Generating solution no. 91\n",
            "Generating solution no. 92\n",
            "Generating solution no. 93\n",
            "Generating solution no. 94\n",
            "Generating solution no. 95\n",
            "Generating solution no. 96\n",
            "Generating solution no. 97\n",
            "Generating solution no. 98\n",
            "Generating solution no. 99\n",
            "Generating solution no. 100\n",
            "Best fit in Generation no 0: 509.031580091204\n",
            "Best fit in Generation no 1: 509.031580091204\n",
            "Best fit in Generation no 2: 509.031580091204\n",
            "Best fit in Generation no 3: 509.031580091204\n",
            "Best fit in Generation no 4: 509.0887084089007\n",
            "Best fit in Generation no 5: 509.0887084089007\n",
            "Best fit in Generation no 6: 509.0887084089007\n",
            "Best fit in Generation no 7: 509.0887084089007\n",
            "Best fit in Generation no 8: 509.0887084089007\n",
            "Best fit in Generation no 9: 509.0887084089007\n",
            "Best fit in Generation no 10: 509.0887084089007\n",
            "Best fit in Generation no 11: 509.0887084089007\n",
            "Best fit in Generation no 12: 509.0887084089007\n",
            "Best fit in Generation no 13: 509.0887084089007\n",
            "Best fit in Generation no 14: 509.4689432634627\n",
            "Best fit in Generation no 15: 509.4689432634627\n",
            "Best fit in Generation no 16: 509.4689432634627\n",
            "Best fit in Generation no 17: 509.4689432634627\n",
            "Best fit in Generation no 18: 509.4689432634627\n",
            "Best fit in Generation no 19: 509.4689432634627\n",
            "Best fit in Generation no 20: 509.4689432634627\n",
            "Best fit in Generation no 21: 509.4689432634627\n",
            "Best fit in Generation no 22: 509.4689432634627\n",
            "Best fit in Generation no 23: 509.4689432634627\n",
            "Best fit in Generation no 24: 509.4689432634627\n",
            "Best fit in Generation no 25: 509.4689432634627\n",
            "Best fit in Generation no 26: 509.4689432634627\n",
            "Best fit in Generation no 27: 509.4689432634627\n",
            "Best fit in Generation no 28: 509.4689432634627\n",
            "Best fit in Generation no 29: 509.4689432634627\n",
            "Best fit in Generation no 30: 509.4689432634627\n",
            "Best fit in Generation no 31: 509.4689432634627\n",
            "Best fit in Generation no 32: 509.4689432634627\n",
            "Best fit in Generation no 33: 509.4689432634627\n",
            "Best fit in Generation no 34: 509.4689432634627\n",
            "Best fit in Generation no 35: 509.4689432634627\n",
            "Best fit in Generation no 36: 509.4689432634627\n",
            "Best fit in Generation no 37: 509.4689432634627\n",
            "Best fit in Generation no 38: 509.4689432634627\n",
            "Best fit in Generation no 39: 509.4689432634627\n",
            "Best fit in Generation no 40: 509.4689432634627\n",
            "Best fit in Generation no 41: 509.4689432634627\n",
            "Best fit in Generation no 42: 509.4689432634627\n",
            "Best fit in Generation no 43: 509.4689432634627\n"
          ],
          "name": "stdout"
        }
      ]
    },
    {
      "cell_type": "code",
      "metadata": {
        "id": "kGg5yFKNe6ys"
      },
      "source": [
        "best_fit.turb_coords\n",
        "plt.scatter(best_fit.turb_coords[:,0],best_fit.turb_coords[:,1], c='black')"
      ],
      "execution_count": null,
      "outputs": []
    },
    {
      "cell_type": "code",
      "metadata": {
        "id": "ahZT0ng110rP"
      },
      "source": [
        ""
      ],
      "execution_count": null,
      "outputs": []
    }
  ]
}